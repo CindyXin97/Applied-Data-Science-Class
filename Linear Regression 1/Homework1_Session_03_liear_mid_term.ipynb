{
 "cells": [
  {
   "cell_type": "markdown",
   "metadata": {
    "colab_type": "text",
    "id": "kOdcHsb4xK9L"
   },
   "source": [
    "# Linear regression\n",
    "\n",
    "## 1. Uni-variate linear regression\n",
    "\n",
    "### 1.1. Least square estimate\n",
    "One of the basic models to try, while learning dependence between two real-valued variables $X$ and $Y$ is a uni-variate linear regression:\n",
    "$$\n",
    "y=w x.\n",
    "$$\n",
    "\n",
    "Admitting that the model's accuracy is not be absolute: \n",
    "$$\n",
    "y=w x + \\varepsilon,\\hspace{5ex} (1.1)\n",
    "$$\n",
    "where $\\varepsilon$ is the model's error (often called noise or residual).\n",
    "\n",
    "The objective is to learn $w$ given a training set of $\\{(x_i, y_i), i=1..N\\}$ providing the best possible fit for the model. The fit could be characterized by the errors of the model\n",
    "$$\n",
    "\\varepsilon_i=y_i-w x_i\n",
    "$$\n",
    "and in particular by their sum of squares:\n",
    "$$\n",
    "RSS(w)=\\sum\\limits_i \\varepsilon_i^2=\\sum\\limits_i (y_i-w x_i)^2. \\hspace{5ex} (1.2)\n",
    "$$\n",
    "Minimizing such $RSS(w)\\to min$ is called a least square approach. With respect to this criteria, regression becomes an optimization problem\n",
    "$$\n",
    "\\hat{w}=argmin_w RSS(w). \\hspace{5ex} (1.3)\n",
    "$$\n",
    "Luckily this problem has a precise analytic solution following from RSS function's shape and local extremum criteria:\n",
    "$$\n",
    "RSS'(w)=0,\n",
    "$$\n",
    "i.e.\n",
    "$$\n",
    "0=\\frac{d\\sum\\limits_i (y_i-w x_i)^2}{dw}=\\sum\\limits_i\\frac{d (y_i-w x_i)^2}{dw}=\\sum\\limits_i -2 x_i(y_i-w x_i),\n",
    "$$$$\n",
    "0=\\sum\\limits_i x_i y_i- w \\sum\\limits_i (x_i)^2,\n",
    "$$$$\n",
    "\\sum\\limits_i x_i y_i = w \\sum\\limits_i (x_i)^2,\n",
    "$$$$\n",
    "w=\\frac{\\sum\\limits_i x_i y_i}{\\sum\\limits_i (x_i)^2}. \\hspace{5ex} (1.4)\n",
    "$$\n",
    "Thinking of $x_i$ and $y_i$ as the observations of random variables $X$ and $Y$ this can be rewritten as\n",
    "$$\n",
    "w=\\frac{E[XY]}{E[X^2]}.\n",
    "$$\n",
    "\n",
    "### 1.2. Case of normalized variables \n",
    "In case variables $x,y$ were normalized as\n",
    "$$\n",
    "x:=\\frac{x-E[X]}{\\sigma[X]},\\ y:=\\frac{y-E[Y]}{\\sigma[Y]}\n",
    "$$\n",
    "in order to ensure zero averages $E[X]=E[Y]=0$ and unit standard deviations $\\sigma[X]=\\sigma[Y]=1$, the equation for $w$ could be rewritten as\n",
    "$$\n",
    "w=\\frac{E[XY]-E[X]E[Y]}{E[X^2]-E[X]^2}=\\frac{E[XY]-E[X]E[Y]}{\\sigma[X]^2}=\\frac{E[XY]-E[X]E[Y]}{\\sigma[X]\\sigma[Y]}=corr(X,Y).\n",
    "$$\n",
    "So in case of normalized $x,y$ a best fit univariate linear regression is provided by an equation\n",
    "$$\n",
    "y=corr(X,Y)x\n",
    "$$\n",
    "\n"
   ]
  },
  {
   "cell_type": "markdown",
   "metadata": {
    "colab_type": "text",
    "id": "RtKqrt5ExK9N"
   },
   "source": [
    "## 2. Multi-variate linear regression\n",
    "\n",
    "### 2.1. Definition and parameter estimation\n",
    "\n",
    "As we remember linear model between single real-value regressor $x$ and output variable $y$ is expressed by \n",
    "$$\n",
    "y=w_1 x + w_0 +\\varepsilon.\n",
    "$$\n",
    "$w_1$-slope coefficient, $w_0$ - intercept, $\\varepsilon$ - random noise. In a more general case when $x$ is a real-valued $n \\times 1$-vector $x=(x_1,x_2,...,x_n)^T$, the model could be easily generalized as\n",
    "$$\n",
    "y=\\sum\\limits_j w_j x_j +\\varepsilon (2.1)\n",
    "$$\n",
    "or in a vector form\n",
    "$$\n",
    "y=w^T x+\\varepsilon, \\hspace{5ex} (2.1')\n",
    "$$\n",
    "where $w=(w_1,w_2,...,w_n)$ is also a $n \\times 1$-vector. \n",
    "Notice that intercept is not specifically separated as it could be always introduced by adding a dummy variable $x^m\\equiv 1$.\n",
    "\n",
    "The probabilistic view on the model in the assumption that $\\varepsilon\\sim {\\cal N}(0,\\sigma^2)$ is\n",
    "$$\n",
    "p(y|x,w,\\sigma)={\\cal N}(y|w^T x,\\sigma^2).\n",
    "$$\n",
    "\n",
    "Given a training set $X=\\{(x_j^i), j=1..n, i=1..N\\}$, $Y=\\{(y^i), i=1..N\\}$ (further also denote columns of $X$ as $X_j=\\{(x_j^i), i=1..N\\}$), the least square optimization criteria for inferring a vector of coefficients $w$ can be written as\n",
    "\n",
    "$$\n",
    "RSS(w)= \\sum \\limits_i \\varepsilon_i^2= \\sum \\limits_i (y^i-w^T x^i)^2. \\hspace{5ex} (2.2)\n",
    "$$\n",
    "\n",
    "or in a matrix form:\n",
    "$$\n",
    "RSS(w)=(Y-X w)^T(Y-X w).\n",
    "$$\n",
    "Then finding an estimate\n",
    "$$\n",
    "\\hat{w}=argmin_w RSS(w)\n",
    "$$\n",
    "can be done by solving the system (in a matrix form)\n",
    "$$\n",
    "0=\\frac{\\partial RSS(\\hat{w})}{\\partial w}=2X^T (Y-X \\hat{w}).\n",
    "$$\n",
    "Using matrix formalism the solution could be expressed as\n",
    "$$\n",
    "\\hat{w}=\\left(X^T X\\right )^{-1}X^T Y. \\hspace{5ex} (2.3)\n",
    "$$\n",
    "This assumes that $X^T X$ is non-singular. Otherwise we have a case of multicollinearity.\n",
    "\n",
    "### 2.2. Case of orthogonal/uncorrelated regressors\n",
    "\n",
    "Typically the resulting estimates for the coefficients $w_j$ of a multi-variate regression (2.1) are not the same as one could get from performing a series of uni-variate regressions \n",
    "$$\n",
    "y\\sim w_j x_j, j=1,2,...,n. \\hspace{5ex} (2.4)\n",
    "$$\n",
    "This is because the regressors might be correlated with each other and their impacts on the output variable could overlap and partly offset one another.\n",
    "\n",
    "But in one special case of mutually orthogonal regressors, such that \n",
    "$$\n",
    "x_i^T x_j=0, \\hspace{5ex} (2.5)\n",
    "$$ \n",
    "for each $i\\neq j$, multi-variate regression can be derived through a series of uni-variate regressions. This is because such a condition makes the matrix $X^T X$ in (2.3) diogonal and the solution effectively splits into a series of solutions (1.4) for the regressions (2.4). Condition (2.5) is called orthogonality of regressors. \n",
    "\n",
    "In a particular case, when all the regressors are normalized as in 1.2, the orthogonality condition (2.5) is equivalent to the regressors being mutually uncorrelated. Then for normalized mutually uncorrelated regressors and a normalized output variable, a multi-variate regression (2.1) can be estimated as\n",
    "$$\n",
    "y\\sim\\sum\\limits_j corr(X_j,Y) x_j, \\hspace{5ex} (2.6)\n",
    "$$\n",
    "i.e. all the coefficients are estimated as correlations between the columns of observations for each regressor and the output variable. But remember, this is only the case when the regressors and the output variable were normalized and the regressors appeared to be mutually uncorrelated. Correlated regressors which we deal with in the most cases do not allow using the formulae (2.6)."
   ]
  },
  {
   "cell_type": "markdown",
   "metadata": {
    "colab_type": "text",
    "id": "q6lWGiORxK9P"
   },
   "source": [
    "### 2.3. Regression performance: R-squared\n",
    "\n",
    "In the same way as for the bi-variate regression:\n",
    "$$\n",
    "R^2=1-\\frac{RSS}{\\sum\\limits_i (y_i-\\overline{y})^2}=\\frac{\\sum\\limits_i (\\hat{y}_i-\\overline{y})^2}{\\sum\\limits_i (y_i-\\overline{y})^2},\n",
    "$$\n",
    "where $\\overline{y}=\\sum\\limits_i y_i$ is the sample mean of observed values of responce variable, while $\\hat{y}_i=w^T x_i$ is the predicted value of output variable as compared to the observed value of $y_i$ corresponding to $x=x_i$. This way $R^2$ is often interpreted as a fraction of responce variable's variance explained by linear model. $R^2=1$ is equivalent to $RSS=0$, i.e. the model fits the observations exactly, i.e. responce variable depends linearly on the explaining variables. On the other hand, $R^2=0$ means that the model always predicts the sample mean $\\overline{y}$, i.e. explaining variables $x$ have no effect on responce variable $y$. \n",
    "\n",
    "Least-square criteria is equivalent to maximizing $R^2$.\n",
    "\n",
    "In case of a bi-variate regression with intercept $R^2=corr(Y,X)^2$, i.e. is a square of a correlation coefficient between observations of input and output variables."
   ]
  },
  {
   "cell_type": "markdown",
   "metadata": {
    "colab_type": "text",
    "id": "Z3x3QgYXxK9Q"
   },
   "source": [
    "## Case 1. Real estate prices in NYC"
   ]
  },
  {
   "cell_type": "markdown",
   "metadata": {
    "colab_type": "text",
    "id": "NRm4rSfuxK9R"
   },
   "source": [
    "All real estate sales accross NYC could be found on\n",
    "\n",
    "https://www1.nyc.gov/site/finance/taxes/property-rolling-sales-data.page\n",
    "\n",
    "Consider data for Staten Island and ask a question: \n",
    "### **which characteristic of the house would be the best predictor for its price?**"
   ]
  },
  {
   "cell_type": "code",
   "execution_count": null,
   "metadata": {
    "colab": {},
    "colab_type": "code",
    "id": "vmUJU8Y_xK9S"
   },
   "outputs": [],
   "source": [
    "import pandas as pd\n",
    "import numpy as np\n",
    "import statsmodels.formula.api as smf\n",
    "import matplotlib.pylab as plt\n",
    "import math\n",
    "%matplotlib inline"
   ]
  },
  {
   "cell_type": "code",
   "execution_count": null,
   "metadata": {
    "colab": {},
    "colab_type": "code",
    "id": "GG6oa-WxxK9V"
   },
   "outputs": [],
   "source": [
    "#load the house sales data from staten island\n",
    "REStaten=pd.read_csv('data/rollingsales_statenisland.csv')"
   ]
  },
  {
   "cell_type": "code",
   "execution_count": null,
   "metadata": {
    "colab": {},
    "colab_type": "code",
    "id": "smK7XIwRxK9Y",
    "outputId": "8ab443ac-c3a8-4038-bbb3-f79e7821a960"
   },
   "outputs": [
    {
     "data": {
      "text/html": [
       "<div>\n",
       "<style scoped>\n",
       "    .dataframe tbody tr th:only-of-type {\n",
       "        vertical-align: middle;\n",
       "    }\n",
       "\n",
       "    .dataframe tbody tr th {\n",
       "        vertical-align: top;\n",
       "    }\n",
       "\n",
       "    .dataframe thead th {\n",
       "        text-align: right;\n",
       "    }\n",
       "</style>\n",
       "<table border=\"1\" class=\"dataframe\">\n",
       "  <thead>\n",
       "    <tr style=\"text-align: right;\">\n",
       "      <th></th>\n",
       "      <th>BOROUGH</th>\n",
       "      <th>NEIGHBORHOOD</th>\n",
       "      <th>BUILDING_CLASS_CATEGORY</th>\n",
       "      <th>TAX_CLASS_AT_PRESENT</th>\n",
       "      <th>BLOCK</th>\n",
       "      <th>LOT</th>\n",
       "      <th>EASE-MENT</th>\n",
       "      <th>BUILDING_CLASS_AT_PRESENT</th>\n",
       "      <th>ADDRESS</th>\n",
       "      <th>APARTMENT_NUMBER</th>\n",
       "      <th>...</th>\n",
       "      <th>RESIDENTIAL_UNITS</th>\n",
       "      <th>COMMERCIAL_UNITS</th>\n",
       "      <th>TOTAL_UNITS</th>\n",
       "      <th>LAND_SQUARE_FEET</th>\n",
       "      <th>GROSS_SQUARE_FEET</th>\n",
       "      <th>YEAR_BUILT</th>\n",
       "      <th>TAX_CLASS_AT_TIME_OF_SALE</th>\n",
       "      <th>BUILDING_CLASS_AT_TIME_OF_SALE</th>\n",
       "      <th>SALE_PRICE</th>\n",
       "      <th>SALE_DATE</th>\n",
       "    </tr>\n",
       "  </thead>\n",
       "  <tbody>\n",
       "    <tr>\n",
       "      <th>0</th>\n",
       "      <td>5</td>\n",
       "      <td>ANNADALE</td>\n",
       "      <td>01 ONE FAMILY DWELLINGS</td>\n",
       "      <td>1</td>\n",
       "      <td>5391</td>\n",
       "      <td>65</td>\n",
       "      <td></td>\n",
       "      <td>A3</td>\n",
       "      <td>22 BLUE HERON DRIVE</td>\n",
       "      <td></td>\n",
       "      <td>...</td>\n",
       "      <td>1</td>\n",
       "      <td>0</td>\n",
       "      <td>1</td>\n",
       "      <td>8000</td>\n",
       "      <td>3000</td>\n",
       "      <td>1987</td>\n",
       "      <td>1</td>\n",
       "      <td>A3</td>\n",
       "      <td>1185000</td>\n",
       "      <td>3/19/18</td>\n",
       "    </tr>\n",
       "    <tr>\n",
       "      <th>1</th>\n",
       "      <td>5</td>\n",
       "      <td>ANNADALE</td>\n",
       "      <td>01 ONE FAMILY DWELLINGS</td>\n",
       "      <td>1</td>\n",
       "      <td>5395</td>\n",
       "      <td>19</td>\n",
       "      <td></td>\n",
       "      <td>A1</td>\n",
       "      <td>4 EDWIN STREET</td>\n",
       "      <td></td>\n",
       "      <td>...</td>\n",
       "      <td>1</td>\n",
       "      <td>0</td>\n",
       "      <td>1</td>\n",
       "      <td>7258</td>\n",
       "      <td>2230</td>\n",
       "      <td>1980</td>\n",
       "      <td>1</td>\n",
       "      <td>A1</td>\n",
       "      <td>866000</td>\n",
       "      <td>8/3/17</td>\n",
       "    </tr>\n",
       "    <tr>\n",
       "      <th>2</th>\n",
       "      <td>5</td>\n",
       "      <td>ANNADALE</td>\n",
       "      <td>01 ONE FAMILY DWELLINGS</td>\n",
       "      <td>1</td>\n",
       "      <td>5406</td>\n",
       "      <td>26</td>\n",
       "      <td></td>\n",
       "      <td>A2</td>\n",
       "      <td>87 ELMBANK STREET</td>\n",
       "      <td></td>\n",
       "      <td>...</td>\n",
       "      <td>1</td>\n",
       "      <td>0</td>\n",
       "      <td>1</td>\n",
       "      <td>5000</td>\n",
       "      <td>912</td>\n",
       "      <td>1950</td>\n",
       "      <td>1</td>\n",
       "      <td>A2</td>\n",
       "      <td>530000</td>\n",
       "      <td>4/27/18</td>\n",
       "    </tr>\n",
       "    <tr>\n",
       "      <th>3</th>\n",
       "      <td>5</td>\n",
       "      <td>ANNADALE</td>\n",
       "      <td>01 ONE FAMILY DWELLINGS</td>\n",
       "      <td>1</td>\n",
       "      <td>5407</td>\n",
       "      <td>10</td>\n",
       "      <td></td>\n",
       "      <td>A2</td>\n",
       "      <td>112 ELMBANK STREET</td>\n",
       "      <td></td>\n",
       "      <td>...</td>\n",
       "      <td>1</td>\n",
       "      <td>0</td>\n",
       "      <td>1</td>\n",
       "      <td>6242</td>\n",
       "      <td>1768</td>\n",
       "      <td>1975</td>\n",
       "      <td>1</td>\n",
       "      <td>A2</td>\n",
       "      <td>735000</td>\n",
       "      <td>11/7/17</td>\n",
       "    </tr>\n",
       "    <tr>\n",
       "      <th>4</th>\n",
       "      <td>5</td>\n",
       "      <td>ANNADALE</td>\n",
       "      <td>01 ONE FAMILY DWELLINGS</td>\n",
       "      <td>1</td>\n",
       "      <td>6205</td>\n",
       "      <td>15</td>\n",
       "      <td></td>\n",
       "      <td>A5</td>\n",
       "      <td>95 EAGAN AVENUE</td>\n",
       "      <td></td>\n",
       "      <td>...</td>\n",
       "      <td>1</td>\n",
       "      <td>0</td>\n",
       "      <td>1</td>\n",
       "      <td>1546</td>\n",
       "      <td>1579</td>\n",
       "      <td>1986</td>\n",
       "      <td>1</td>\n",
       "      <td>A5</td>\n",
       "      <td>475000</td>\n",
       "      <td>9/7/17</td>\n",
       "    </tr>\n",
       "  </tbody>\n",
       "</table>\n",
       "<p>5 rows × 21 columns</p>\n",
       "</div>"
      ],
      "text/plain": [
       "   BOROUGH NEIGHBORHOOD                      BUILDING_CLASS_CATEGORY  \\\n",
       "0        5     ANNADALE  01 ONE FAMILY DWELLINGS                       \n",
       "1        5     ANNADALE  01 ONE FAMILY DWELLINGS                       \n",
       "2        5     ANNADALE  01 ONE FAMILY DWELLINGS                       \n",
       "3        5     ANNADALE  01 ONE FAMILY DWELLINGS                       \n",
       "4        5     ANNADALE  01 ONE FAMILY DWELLINGS                       \n",
       "\n",
       "  TAX_CLASS_AT_PRESENT  BLOCK  LOT EASE-MENT BUILDING_CLASS_AT_PRESENT  \\\n",
       "0                    1   5391   65                                  A3   \n",
       "1                    1   5395   19                                  A1   \n",
       "2                    1   5406   26                                  A2   \n",
       "3                    1   5407   10                                  A2   \n",
       "4                    1   6205   15                                  A5   \n",
       "\n",
       "                 ADDRESS APARTMENT_NUMBER    ...      RESIDENTIAL_UNITS  \\\n",
       "0   22 BLUE HERON DRIVE                      ...                      1   \n",
       "1        4 EDWIN STREET                      ...                      1   \n",
       "2     87 ELMBANK STREET                      ...                      1   \n",
       "3    112 ELMBANK STREET                      ...                      1   \n",
       "4       95 EAGAN AVENUE                      ...                      1   \n",
       "\n",
       "   COMMERCIAL_UNITS  TOTAL_UNITS  LAND_SQUARE_FEET  GROSS_SQUARE_FEET  \\\n",
       "0                 0            1              8000               3000   \n",
       "1                 0            1              7258               2230   \n",
       "2                 0            1              5000                912   \n",
       "3                 0            1              6242               1768   \n",
       "4                 0            1              1546               1579   \n",
       "\n",
       "   YEAR_BUILT  TAX_CLASS_AT_TIME_OF_SALE  BUILDING_CLASS_AT_TIME_OF_SALE  \\\n",
       "0        1987                          1                             A3    \n",
       "1        1980                          1                             A1    \n",
       "2        1950                          1                             A2    \n",
       "3        1975                          1                             A2    \n",
       "4        1986                          1                             A5    \n",
       "\n",
       "  SALE_PRICE  SALE_DATE  \n",
       "0    1185000    3/19/18  \n",
       "1     866000     8/3/17  \n",
       "2     530000    4/27/18  \n",
       "3     735000    11/7/17  \n",
       "4     475000     9/7/17  \n",
       "\n",
       "[5 rows x 21 columns]"
      ]
     },
     "execution_count": 4,
     "metadata": {
      "tags": []
     },
     "output_type": "execute_result"
    }
   ],
   "source": [
    "#look at the format\n",
    "REStaten.head()"
   ]
  },
  {
   "cell_type": "code",
   "execution_count": null,
   "metadata": {
    "colab": {},
    "colab_type": "code",
    "id": "p1HEGbTGxK9d",
    "outputId": "fa6f237c-d515-4f86-9a1b-2e65f7bfcbb4"
   },
   "outputs": [
    {
     "data": {
      "text/plain": [
       "Index([u'BOROUGH', u'NEIGHBORHOOD', u'BUILDING_CLASS_CATEGORY',\n",
       "       u'TAX_CLASS_AT_PRESENT', u'BLOCK', u'LOT', u'EASE-MENT',\n",
       "       u'BUILDING_CLASS_AT_PRESENT', u'ADDRESS', u'APARTMENT_NUMBER',\n",
       "       u'ZIP_CODE', u'RESIDENTIAL_UNITS', u'COMMERCIAL_UNITS', u'TOTAL_UNITS',\n",
       "       u'LAND_SQUARE_FEET', u'GROSS_SQUARE_FEET', u'YEAR_BUILT',\n",
       "       u'TAX_CLASS_AT_TIME_OF_SALE', u'BUILDING_CLASS_AT_TIME_OF_SALE',\n",
       "       u'SALE_PRICE', u'SALE_DATE'],\n",
       "      dtype='object')"
      ]
     },
     "execution_count": 5,
     "metadata": {
      "tags": []
     },
     "output_type": "execute_result"
    }
   ],
   "source": [
    "#a more concise way to get the list of column names\n",
    "REStaten.columns"
   ]
  },
  {
   "cell_type": "code",
   "execution_count": null,
   "metadata": {
    "colab": {},
    "colab_type": "code",
    "id": "5iTdW0ymxK9h",
    "outputId": "29479c05-7808-4aa1-86e9-2217e38329b4"
   },
   "outputs": [
    {
     "data": {
      "text/html": [
       "<div>\n",
       "<style scoped>\n",
       "    .dataframe tbody tr th:only-of-type {\n",
       "        vertical-align: middle;\n",
       "    }\n",
       "\n",
       "    .dataframe tbody tr th {\n",
       "        vertical-align: top;\n",
       "    }\n",
       "\n",
       "    .dataframe thead th {\n",
       "        text-align: right;\n",
       "    }\n",
       "</style>\n",
       "<table border=\"1\" class=\"dataframe\">\n",
       "  <thead>\n",
       "    <tr style=\"text-align: right;\">\n",
       "      <th></th>\n",
       "      <th>BOROUGH</th>\n",
       "      <th>BLOCK</th>\n",
       "      <th>LOT</th>\n",
       "      <th>ZIP_CODE</th>\n",
       "      <th>RESIDENTIAL_UNITS</th>\n",
       "      <th>COMMERCIAL_UNITS</th>\n",
       "      <th>TOTAL_UNITS</th>\n",
       "      <th>LAND_SQUARE_FEET</th>\n",
       "      <th>GROSS_SQUARE_FEET</th>\n",
       "      <th>YEAR_BUILT</th>\n",
       "      <th>TAX_CLASS_AT_TIME_OF_SALE</th>\n",
       "      <th>SALE_PRICE</th>\n",
       "    </tr>\n",
       "  </thead>\n",
       "  <tbody>\n",
       "    <tr>\n",
       "      <th>count</th>\n",
       "      <td>8706.0</td>\n",
       "      <td>8706.000000</td>\n",
       "      <td>8706.000000</td>\n",
       "      <td>8706.000000</td>\n",
       "      <td>8706.000000</td>\n",
       "      <td>8706.000000</td>\n",
       "      <td>8706.000000</td>\n",
       "      <td>8.706000e+03</td>\n",
       "      <td>8706.000000</td>\n",
       "      <td>8706.000000</td>\n",
       "      <td>8706.000000</td>\n",
       "      <td>8.706000e+03</td>\n",
       "    </tr>\n",
       "    <tr>\n",
       "      <th>mean</th>\n",
       "      <td>5.0</td>\n",
       "      <td>3319.292212</td>\n",
       "      <td>208.871468</td>\n",
       "      <td>10132.832989</td>\n",
       "      <td>1.257179</td>\n",
       "      <td>0.062486</td>\n",
       "      <td>1.324144</td>\n",
       "      <td>5.016016e+03</td>\n",
       "      <td>1689.650930</td>\n",
       "      <td>1884.641282</td>\n",
       "      <td>1.171721</td>\n",
       "      <td>3.918813e+05</td>\n",
       "    </tr>\n",
       "    <tr>\n",
       "      <th>std</th>\n",
       "      <td>0.0</td>\n",
       "      <td>2344.202564</td>\n",
       "      <td>453.187678</td>\n",
       "      <td>1332.608872</td>\n",
       "      <td>1.579128</td>\n",
       "      <td>0.722336</td>\n",
       "      <td>1.718008</td>\n",
       "      <td>3.779630e+04</td>\n",
       "      <td>5804.911675</td>\n",
       "      <td>400.438263</td>\n",
       "      <td>0.601193</td>\n",
       "      <td>8.260853e+05</td>\n",
       "    </tr>\n",
       "    <tr>\n",
       "      <th>min</th>\n",
       "      <td>5.0</td>\n",
       "      <td>1.000000</td>\n",
       "      <td>1.000000</td>\n",
       "      <td>0.000000</td>\n",
       "      <td>0.000000</td>\n",
       "      <td>0.000000</td>\n",
       "      <td>0.000000</td>\n",
       "      <td>0.000000e+00</td>\n",
       "      <td>0.000000</td>\n",
       "      <td>0.000000</td>\n",
       "      <td>1.000000</td>\n",
       "      <td>0.000000e+00</td>\n",
       "    </tr>\n",
       "    <tr>\n",
       "      <th>25%</th>\n",
       "      <td>5.0</td>\n",
       "      <td>1116.000000</td>\n",
       "      <td>25.000000</td>\n",
       "      <td>10305.000000</td>\n",
       "      <td>1.000000</td>\n",
       "      <td>0.000000</td>\n",
       "      <td>1.000000</td>\n",
       "      <td>2.000000e+03</td>\n",
       "      <td>960.000000</td>\n",
       "      <td>1944.000000</td>\n",
       "      <td>1.000000</td>\n",
       "      <td>0.000000e+00</td>\n",
       "    </tr>\n",
       "    <tr>\n",
       "      <th>50%</th>\n",
       "      <td>5.0</td>\n",
       "      <td>3121.000000</td>\n",
       "      <td>56.000000</td>\n",
       "      <td>10308.000000</td>\n",
       "      <td>1.000000</td>\n",
       "      <td>0.000000</td>\n",
       "      <td>1.000000</td>\n",
       "      <td>3.125000e+03</td>\n",
       "      <td>1400.000000</td>\n",
       "      <td>1975.000000</td>\n",
       "      <td>1.000000</td>\n",
       "      <td>3.858250e+05</td>\n",
       "    </tr>\n",
       "    <tr>\n",
       "      <th>75%</th>\n",
       "      <td>5.0</td>\n",
       "      <td>5432.000000</td>\n",
       "      <td>135.000000</td>\n",
       "      <td>10312.000000</td>\n",
       "      <td>2.000000</td>\n",
       "      <td>0.000000</td>\n",
       "      <td>2.000000</td>\n",
       "      <td>4.520000e+03</td>\n",
       "      <td>1974.000000</td>\n",
       "      <td>1990.000000</td>\n",
       "      <td>1.000000</td>\n",
       "      <td>5.800000e+05</td>\n",
       "    </tr>\n",
       "    <tr>\n",
       "      <th>max</th>\n",
       "      <td>5.0</td>\n",
       "      <td>8050.000000</td>\n",
       "      <td>5359.000000</td>\n",
       "      <td>10314.000000</td>\n",
       "      <td>84.000000</td>\n",
       "      <td>43.000000</td>\n",
       "      <td>84.000000</td>\n",
       "      <td>3.014056e+06</td>\n",
       "      <td>349503.000000</td>\n",
       "      <td>2018.000000</td>\n",
       "      <td>4.000000</td>\n",
       "      <td>4.725000e+07</td>\n",
       "    </tr>\n",
       "  </tbody>\n",
       "</table>\n",
       "</div>"
      ],
      "text/plain": [
       "       BOROUGH        BLOCK          LOT      ZIP_CODE  RESIDENTIAL_UNITS  \\\n",
       "count   8706.0  8706.000000  8706.000000   8706.000000        8706.000000   \n",
       "mean       5.0  3319.292212   208.871468  10132.832989           1.257179   \n",
       "std        0.0  2344.202564   453.187678   1332.608872           1.579128   \n",
       "min        5.0     1.000000     1.000000      0.000000           0.000000   \n",
       "25%        5.0  1116.000000    25.000000  10305.000000           1.000000   \n",
       "50%        5.0  3121.000000    56.000000  10308.000000           1.000000   \n",
       "75%        5.0  5432.000000   135.000000  10312.000000           2.000000   \n",
       "max        5.0  8050.000000  5359.000000  10314.000000          84.000000   \n",
       "\n",
       "       COMMERCIAL_UNITS  TOTAL_UNITS  LAND_SQUARE_FEET  GROSS_SQUARE_FEET  \\\n",
       "count       8706.000000  8706.000000      8.706000e+03        8706.000000   \n",
       "mean           0.062486     1.324144      5.016016e+03        1689.650930   \n",
       "std            0.722336     1.718008      3.779630e+04        5804.911675   \n",
       "min            0.000000     0.000000      0.000000e+00           0.000000   \n",
       "25%            0.000000     1.000000      2.000000e+03         960.000000   \n",
       "50%            0.000000     1.000000      3.125000e+03        1400.000000   \n",
       "75%            0.000000     2.000000      4.520000e+03        1974.000000   \n",
       "max           43.000000    84.000000      3.014056e+06      349503.000000   \n",
       "\n",
       "        YEAR_BUILT  TAX_CLASS_AT_TIME_OF_SALE    SALE_PRICE  \n",
       "count  8706.000000                8706.000000  8.706000e+03  \n",
       "mean   1884.641282                   1.171721  3.918813e+05  \n",
       "std     400.438263                   0.601193  8.260853e+05  \n",
       "min       0.000000                   1.000000  0.000000e+00  \n",
       "25%    1944.000000                   1.000000  0.000000e+00  \n",
       "50%    1975.000000                   1.000000  3.858250e+05  \n",
       "75%    1990.000000                   1.000000  5.800000e+05  \n",
       "max    2018.000000                   4.000000  4.725000e+07  "
      ]
     },
     "execution_count": 6,
     "metadata": {
      "tags": []
     },
     "output_type": "execute_result"
    }
   ],
   "source": [
    "#get some statistics; does not make sense for categorical columns, like zip code, lot etc, but gives an idea of distributions for house characteristics  \n",
    "REStaten.describe()"
   ]
  },
  {
   "cell_type": "code",
   "execution_count": null,
   "metadata": {
    "colab": {},
    "colab_type": "code",
    "id": "LP30rH8ZxK9j"
   },
   "outputs": [],
   "source": [
    "#as we see sale price and house size could be as low as zero. Exclude missing/unrealistic values by defining a reliable data index\n",
    "#also take only houses with residential units\n",
    "ind=(REStaten.SALE_PRICE>50000)&(REStaten.GROSS_SQUARE_FEET>300)&(REStaten.LAND_SQUARE_FEET>300)&(REStaten.RESIDENTIAL_UNITS>0)&(REStaten.YEAR_BUILT>160)"
   ]
  },
  {
   "cell_type": "code",
   "execution_count": null,
   "metadata": {
    "colab": {},
    "colab_type": "code",
    "id": "uX_OBG9dxK9m"
   },
   "outputs": [],
   "source": [
    "#filter the data; loc accesses rows by boolean index (as opposed to integer positions done with iloc)\n",
    "REStaten_=REStaten.loc[ind].copy()"
   ]
  },
  {
   "cell_type": "code",
   "execution_count": null,
   "metadata": {
    "colab": {},
    "colab_type": "code",
    "id": "agTWRAToxK9q",
    "outputId": "54edcc20-7ca2-40e7-e39c-b9bcbbd8e52f"
   },
   "outputs": [
    {
     "data": {
      "text/plain": [
       "(4866, 21)"
      ]
     },
     "execution_count": 9,
     "metadata": {
      "tags": []
     },
     "output_type": "execute_result"
    }
   ],
   "source": [
    "REStaten_.shape"
   ]
  },
  {
   "cell_type": "code",
   "execution_count": null,
   "metadata": {
    "colab": {},
    "colab_type": "code",
    "id": "lmv4rsVjxK9t",
    "outputId": "96ff4e4b-f957-43d4-8c04-bf57acfa6c37"
   },
   "outputs": [
    {
     "data": {
      "text/html": [
       "<div>\n",
       "<style scoped>\n",
       "    .dataframe tbody tr th:only-of-type {\n",
       "        vertical-align: middle;\n",
       "    }\n",
       "\n",
       "    .dataframe tbody tr th {\n",
       "        vertical-align: top;\n",
       "    }\n",
       "\n",
       "    .dataframe thead th {\n",
       "        text-align: right;\n",
       "    }\n",
       "</style>\n",
       "<table border=\"1\" class=\"dataframe\">\n",
       "  <thead>\n",
       "    <tr style=\"text-align: right;\">\n",
       "      <th></th>\n",
       "      <th>BOROUGH</th>\n",
       "      <th>BLOCK</th>\n",
       "      <th>LOT</th>\n",
       "      <th>ZIP_CODE</th>\n",
       "      <th>RESIDENTIAL_UNITS</th>\n",
       "      <th>COMMERCIAL_UNITS</th>\n",
       "      <th>TOTAL_UNITS</th>\n",
       "      <th>LAND_SQUARE_FEET</th>\n",
       "      <th>GROSS_SQUARE_FEET</th>\n",
       "      <th>YEAR_BUILT</th>\n",
       "      <th>TAX_CLASS_AT_TIME_OF_SALE</th>\n",
       "      <th>SALE_PRICE</th>\n",
       "    </tr>\n",
       "  </thead>\n",
       "  <tbody>\n",
       "    <tr>\n",
       "      <th>count</th>\n",
       "      <td>4866.0</td>\n",
       "      <td>4866.000000</td>\n",
       "      <td>4866.000000</td>\n",
       "      <td>4866.000000</td>\n",
       "      <td>4866.000000</td>\n",
       "      <td>4866.000000</td>\n",
       "      <td>4866.000000</td>\n",
       "      <td>4866.000000</td>\n",
       "      <td>4866.000000</td>\n",
       "      <td>4866.000000</td>\n",
       "      <td>4866.000000</td>\n",
       "      <td>4.866000e+03</td>\n",
       "    </tr>\n",
       "    <tr>\n",
       "      <th>mean</th>\n",
       "      <td>5.0</td>\n",
       "      <td>3462.579326</td>\n",
       "      <td>79.148993</td>\n",
       "      <td>10307.940608</td>\n",
       "      <td>1.342376</td>\n",
       "      <td>0.018085</td>\n",
       "      <td>1.360460</td>\n",
       "      <td>3906.581176</td>\n",
       "      <td>1740.041102</td>\n",
       "      <td>1967.412043</td>\n",
       "      <td>1.020345</td>\n",
       "      <td>5.631876e+05</td>\n",
       "    </tr>\n",
       "    <tr>\n",
       "      <th>std</th>\n",
       "      <td>0.0</td>\n",
       "      <td>2390.676182</td>\n",
       "      <td>92.461180</td>\n",
       "      <td>4.088231</td>\n",
       "      <td>1.128679</td>\n",
       "      <td>0.200927</td>\n",
       "      <td>1.175613</td>\n",
       "      <td>3230.453434</td>\n",
       "      <td>1318.247231</td>\n",
       "      <td>31.816460</td>\n",
       "      <td>0.208250</td>\n",
       "      <td>3.802599e+05</td>\n",
       "    </tr>\n",
       "    <tr>\n",
       "      <th>min</th>\n",
       "      <td>5.0</td>\n",
       "      <td>13.000000</td>\n",
       "      <td>1.000000</td>\n",
       "      <td>10301.000000</td>\n",
       "      <td>1.000000</td>\n",
       "      <td>0.000000</td>\n",
       "      <td>1.000000</td>\n",
       "      <td>315.000000</td>\n",
       "      <td>330.000000</td>\n",
       "      <td>1859.000000</td>\n",
       "      <td>1.000000</td>\n",
       "      <td>5.070000e+04</td>\n",
       "    </tr>\n",
       "    <tr>\n",
       "      <th>25%</th>\n",
       "      <td>5.0</td>\n",
       "      <td>1093.250000</td>\n",
       "      <td>23.000000</td>\n",
       "      <td>10305.000000</td>\n",
       "      <td>1.000000</td>\n",
       "      <td>0.000000</td>\n",
       "      <td>1.000000</td>\n",
       "      <td>2300.000000</td>\n",
       "      <td>1216.000000</td>\n",
       "      <td>1945.000000</td>\n",
       "      <td>1.000000</td>\n",
       "      <td>4.050000e+05</td>\n",
       "    </tr>\n",
       "    <tr>\n",
       "      <th>50%</th>\n",
       "      <td>5.0</td>\n",
       "      <td>3373.500000</td>\n",
       "      <td>49.000000</td>\n",
       "      <td>10308.000000</td>\n",
       "      <td>1.000000</td>\n",
       "      <td>0.000000</td>\n",
       "      <td>1.000000</td>\n",
       "      <td>3325.000000</td>\n",
       "      <td>1512.000000</td>\n",
       "      <td>1975.000000</td>\n",
       "      <td>1.000000</td>\n",
       "      <td>5.335000e+05</td>\n",
       "    </tr>\n",
       "    <tr>\n",
       "      <th>75%</th>\n",
       "      <td>5.0</td>\n",
       "      <td>5523.000000</td>\n",
       "      <td>97.000000</td>\n",
       "      <td>10312.000000</td>\n",
       "      <td>2.000000</td>\n",
       "      <td>0.000000</td>\n",
       "      <td>2.000000</td>\n",
       "      <td>4536.000000</td>\n",
       "      <td>2050.000000</td>\n",
       "      <td>1993.000000</td>\n",
       "      <td>1.000000</td>\n",
       "      <td>6.557782e+05</td>\n",
       "    </tr>\n",
       "    <tr>\n",
       "      <th>max</th>\n",
       "      <td>5.0</td>\n",
       "      <td>8050.000000</td>\n",
       "      <td>926.000000</td>\n",
       "      <td>10314.000000</td>\n",
       "      <td>42.000000</td>\n",
       "      <td>7.000000</td>\n",
       "      <td>43.000000</td>\n",
       "      <td>63624.000000</td>\n",
       "      <td>58792.000000</td>\n",
       "      <td>2017.000000</td>\n",
       "      <td>4.000000</td>\n",
       "      <td>2.000000e+07</td>\n",
       "    </tr>\n",
       "  </tbody>\n",
       "</table>\n",
       "</div>"
      ],
      "text/plain": [
       "       BOROUGH        BLOCK          LOT      ZIP_CODE  RESIDENTIAL_UNITS  \\\n",
       "count   4866.0  4866.000000  4866.000000   4866.000000        4866.000000   \n",
       "mean       5.0  3462.579326    79.148993  10307.940608           1.342376   \n",
       "std        0.0  2390.676182    92.461180      4.088231           1.128679   \n",
       "min        5.0    13.000000     1.000000  10301.000000           1.000000   \n",
       "25%        5.0  1093.250000    23.000000  10305.000000           1.000000   \n",
       "50%        5.0  3373.500000    49.000000  10308.000000           1.000000   \n",
       "75%        5.0  5523.000000    97.000000  10312.000000           2.000000   \n",
       "max        5.0  8050.000000   926.000000  10314.000000          42.000000   \n",
       "\n",
       "       COMMERCIAL_UNITS  TOTAL_UNITS  LAND_SQUARE_FEET  GROSS_SQUARE_FEET  \\\n",
       "count       4866.000000  4866.000000       4866.000000        4866.000000   \n",
       "mean           0.018085     1.360460       3906.581176        1740.041102   \n",
       "std            0.200927     1.175613       3230.453434        1318.247231   \n",
       "min            0.000000     1.000000        315.000000         330.000000   \n",
       "25%            0.000000     1.000000       2300.000000        1216.000000   \n",
       "50%            0.000000     1.000000       3325.000000        1512.000000   \n",
       "75%            0.000000     2.000000       4536.000000        2050.000000   \n",
       "max            7.000000    43.000000      63624.000000       58792.000000   \n",
       "\n",
       "        YEAR_BUILT  TAX_CLASS_AT_TIME_OF_SALE    SALE_PRICE  \n",
       "count  4866.000000                4866.000000  4.866000e+03  \n",
       "mean   1967.412043                   1.020345  5.631876e+05  \n",
       "std      31.816460                   0.208250  3.802599e+05  \n",
       "min    1859.000000                   1.000000  5.070000e+04  \n",
       "25%    1945.000000                   1.000000  4.050000e+05  \n",
       "50%    1975.000000                   1.000000  5.335000e+05  \n",
       "75%    1993.000000                   1.000000  6.557782e+05  \n",
       "max    2017.000000                   4.000000  2.000000e+07  "
      ]
     },
     "execution_count": 10,
     "metadata": {
      "tags": []
     },
     "output_type": "execute_result"
    }
   ],
   "source": [
    "REStaten_.describe()"
   ]
  },
  {
   "cell_type": "markdown",
   "metadata": {
    "colab_type": "text",
    "id": "HOJJZutsxK9w"
   },
   "source": [
    "Get a better idea of the data by looking at the distribution (histograms) of the key characteristics"
   ]
  },
  {
   "cell_type": "code",
   "execution_count": null,
   "metadata": {
    "colab": {},
    "colab_type": "code",
    "id": "HuVH2dycxK9x",
    "outputId": "7eec1df0-906b-4594-ca0a-cc9ab6562e84"
   },
   "outputs": [
    {
     "data": {
      "text/plain": [
       "array([[<matplotlib.axes._subplots.AxesSubplot object at 0x106446210>]],\n",
       "      dtype=object)"
      ]
     },
     "execution_count": 11,
     "metadata": {
      "tags": []
     },
     "output_type": "execute_result"
    },
    {
     "data": {
      "image/png": "[encoded data removed]",
      "text/plain": [
       "<Figure size 432x288 with 1 Axes>"
      ]
     },
     "metadata": {
      "needs_background": "light",
      "tags": []
     },
     "output_type": "display_data"
    }
   ],
   "source": [
    "#start with the price\n",
    "REStaten_.hist('SALE_PRICE',bins=100)"
   ]
  },
  {
   "cell_type": "code",
   "execution_count": null,
   "metadata": {
    "colab": {},
    "colab_type": "code",
    "id": "MPq_SpiixK90",
    "outputId": "0b464f56-b016-4af1-a4f9-dd85f8df4ee0"
   },
   "outputs": [
    {
     "data": {
      "image/png": "[encoded data removed]",
      "text/plain": [
       "<Figure size 432x288 with 1 Axes>"
      ]
     },
     "metadata": {
      "needs_background": "light",
      "tags": []
     },
     "output_type": "display_data"
    }
   ],
   "source": [
    "#as the distribution is highly skewed to the left, try log-histogram \n",
    "fig, ax = plt.subplots()\n",
    "ax.set_xscale('log')\n",
    "REStaten_['SALE_PRICE'].hist(ax=ax,bins=300)\n",
    "#add mean price\n",
    "mu=REStaten_['SALE_PRICE'].mean()\n",
    "plt.axvline(mu, color='k', linestyle='dashed', linewidth=1) \n",
    "min_ylim, max_ylim = plt.ylim()\n",
    "plt.text(mu*1.1, max_ylim*0.9, 'Mean: {:.2f}'.format(mu));"
   ]
  },
  {
   "cell_type": "code",
   "execution_count": null,
   "metadata": {
    "colab": {},
    "colab_type": "code",
    "id": "s-wfiiNyxK93",
    "outputId": "81b33e4a-aabd-42ce-dd50-e1477cd8b564"
   },
   "outputs": [
    {
     "data": {
      "image/png": "[encoded data removed]",
      "text/plain": [
       "<Figure size 432x288 with 1 Axes>"
      ]
     },
     "metadata": {
      "needs_background": "light",
      "tags": []
     },
     "output_type": "display_data"
    }
   ],
   "source": [
    "#distribution of house sizes, log-scale\n",
    "fig, ax = plt.subplots()\n",
    "ax.set_xscale('log')\n",
    "REStaten_['GROSS_SQUARE_FEET'].hist(ax=ax,bins=300)\n",
    "#add mean price\n",
    "mu=REStaten_['GROSS_SQUARE_FEET'].mean()\n",
    "plt.axvline(mu, color='k', linestyle='dashed', linewidth=1) \n",
    "min_ylim, max_ylim = plt.ylim()\n",
    "plt.text(mu*1.1, max_ylim*0.9, 'Mean: {:.2f}'.format(mu));"
   ]
  },
  {
   "cell_type": "code",
   "execution_count": null,
   "metadata": {
    "colab": {},
    "colab_type": "code",
    "id": "prcZKL19xK95",
    "outputId": "66bc4acc-2717-4851-bdf7-47361ee9b38d"
   },
   "outputs": [
    {
     "data": {
      "text/plain": [
       "array([[<matplotlib.axes._subplots.AxesSubplot object at 0x1a18b4ae50>]],\n",
       "      dtype=object)"
      ]
     },
     "execution_count": 14,
     "metadata": {
      "tags": []
     },
     "output_type": "execute_result"
    },
    {
     "data": {
      "image/png": "[encoded data removed]",
      "text/plain": [
       "<Figure size 432x288 with 1 Axes>"
      ]
     },
     "metadata": {
      "needs_background": "light",
      "tags": []
     },
     "output_type": "display_data"
    }
   ],
   "source": [
    "REStaten_.hist('RESIDENTIAL_UNITS',bins=50)"
   ]
  },
  {
   "cell_type": "code",
   "execution_count": null,
   "metadata": {
    "colab": {},
    "colab_type": "code",
    "id": "iLeByQ1cxK98",
    "outputId": "08fb11be-c827-4008-90f8-f0974b8e8b66"
   },
   "outputs": [
    {
     "data": {
      "text/plain": [
       "array([[<matplotlib.axes._subplots.AxesSubplot object at 0x1a1a040150>]],\n",
       "      dtype=object)"
      ]
     },
     "execution_count": 15,
     "metadata": {
      "tags": []
     },
     "output_type": "execute_result"
    },
    {
     "data": {
      "image/png": "[encoded data removed]",
      "text/plain": [
       "<Figure size 432x288 with 1 Axes>"
      ]
     },
     "metadata": {
      "needs_background": "light",
      "tags": []
     },
     "output_type": "display_data"
    }
   ],
   "source": [
    "#year built distirbution - clearly there were two major period: pre- and post- World War II\n",
    "REStaten_.hist('YEAR_BUILT',bins=35)"
   ]
  },
  {
   "cell_type": "code",
   "execution_count": null,
   "metadata": {
    "colab": {},
    "colab_type": "code",
    "id": "ouccqHFjxK9_",
    "outputId": "ca61f987-7147-4c2b-c329-355e80835258"
   },
   "outputs": [
    {
     "data": {
      "text/plain": [
       "BOROUGH                                                                     5\n",
       "NEIGHBORHOOD                                          NEW BRIGHTON-ST. GEORGE\n",
       "BUILDING_CLASS_CATEGORY           08 RENTALS - ELEVATOR APARTMENTS           \n",
       "TAX_CLASS_AT_PRESENT                                                        2\n",
       "BLOCK                                                                      13\n",
       "LOT                                                                        60\n",
       "EASE-MENT                                                                    \n",
       "BUILDING_CLASS_AT_PRESENT                                                  D6\n",
       "ADDRESS                                                 224 RICHMOND TERRACE \n",
       "APARTMENT_NUMBER                                                             \n",
       "ZIP_CODE                                                                10301\n",
       "RESIDENTIAL_UNITS                                                          40\n",
       "COMMERCIAL_UNITS                                                            3\n",
       "TOTAL_UNITS                                                                43\n",
       "LAND_SQUARE_FEET                                                        16938\n",
       "GROSS_SQUARE_FEET                                                       58792\n",
       "YEAR_BUILT                                                               2012\n",
       "TAX_CLASS_AT_TIME_OF_SALE                                                   2\n",
       "BUILDING_CLASS_AT_TIME_OF_SALE                                            D6 \n",
       "SALE_PRICE                                                           20000000\n",
       "SALE_DATE                                                             1/26/18\n",
       "Name: 4300, dtype: object"
      ]
     },
     "execution_count": 16,
     "metadata": {
      "tags": []
     },
     "output_type": "execute_result"
    }
   ],
   "source": [
    "#now find the most expensive house\n",
    "REStaten_.loc[REStaten_['SALE_PRICE'].idxmax()]"
   ]
  },
  {
   "cell_type": "code",
   "execution_count": null,
   "metadata": {
    "colab": {},
    "colab_type": "code",
    "id": "1-6Fs-dXxK-C",
    "outputId": "bf8da51c-3a63-47d3-a8c6-e7cd816c692c"
   },
   "outputs": [
    {
     "data": {
      "text/plain": [
       "BOROUGH                                                                     5\n",
       "NEIGHBORHOOD                                          NEW BRIGHTON-ST. GEORGE\n",
       "BUILDING_CLASS_CATEGORY           08 RENTALS - ELEVATOR APARTMENTS           \n",
       "TAX_CLASS_AT_PRESENT                                                        2\n",
       "BLOCK                                                                      13\n",
       "LOT                                                                        60\n",
       "EASE-MENT                                                                    \n",
       "BUILDING_CLASS_AT_PRESENT                                                  D6\n",
       "ADDRESS                                                 224 RICHMOND TERRACE \n",
       "APARTMENT_NUMBER                                                             \n",
       "ZIP_CODE                                                                10301\n",
       "RESIDENTIAL_UNITS                                                          40\n",
       "COMMERCIAL_UNITS                                                            3\n",
       "TOTAL_UNITS                                                                43\n",
       "LAND_SQUARE_FEET                                                        16938\n",
       "GROSS_SQUARE_FEET                                                       58792\n",
       "YEAR_BUILT                                                               2012\n",
       "TAX_CLASS_AT_TIME_OF_SALE                                                   2\n",
       "BUILDING_CLASS_AT_TIME_OF_SALE                                            D6 \n",
       "SALE_PRICE                                                           20000000\n",
       "SALE_DATE                                                             1/26/18\n",
       "Name: 4300, dtype: object"
      ]
     },
     "execution_count": 17,
     "metadata": {
      "tags": []
     },
     "output_type": "execute_result"
    }
   ],
   "source": [
    "#and the largest one - the same house apparently!\n",
    "REStaten_.loc[REStaten_['GROSS_SQUARE_FEET'].idxmax()]"
   ]
  },
  {
   "cell_type": "markdown",
   "metadata": {
    "colab_type": "text",
    "id": "RnajfnvzxK-E"
   },
   "source": [
    "Now look at the correlation between all the quantitative parameters of the properties"
   ]
  },
  {
   "cell_type": "code",
   "execution_count": null,
   "metadata": {
    "colab": {},
    "colab_type": "code",
    "id": "uM6x7sazxK-F",
    "outputId": "bd98899a-7f36-49f2-ad4e-4ef2f4c4acef"
   },
   "outputs": [
    {
     "data": {
      "text/html": [
       "<div>\n",
       "<style scoped>\n",
       "    .dataframe tbody tr th:only-of-type {\n",
       "        vertical-align: middle;\n",
       "    }\n",
       "\n",
       "    .dataframe tbody tr th {\n",
       "        vertical-align: top;\n",
       "    }\n",
       "\n",
       "    .dataframe thead th {\n",
       "        text-align: right;\n",
       "    }\n",
       "</style>\n",
       "<table border=\"1\" class=\"dataframe\">\n",
       "  <thead>\n",
       "    <tr style=\"text-align: right;\">\n",
       "      <th></th>\n",
       "      <th>YEAR_BUILT</th>\n",
       "      <th>RESIDENTIAL_UNITS</th>\n",
       "      <th>COMMERCIAL_UNITS</th>\n",
       "      <th>GROSS_SQUARE_FEET</th>\n",
       "      <th>LAND_SQUARE_FEET</th>\n",
       "      <th>SALE_PRICE</th>\n",
       "    </tr>\n",
       "  </thead>\n",
       "  <tbody>\n",
       "    <tr>\n",
       "      <th>YEAR_BUILT</th>\n",
       "      <td>1.000000</td>\n",
       "      <td>-0.044512</td>\n",
       "      <td>-0.082578</td>\n",
       "      <td>0.048370</td>\n",
       "      <td>-0.212966</td>\n",
       "      <td>0.105413</td>\n",
       "    </tr>\n",
       "    <tr>\n",
       "      <th>RESIDENTIAL_UNITS</th>\n",
       "      <td>-0.044512</td>\n",
       "      <td>1.000000</td>\n",
       "      <td>0.149435</td>\n",
       "      <td>0.771761</td>\n",
       "      <td>0.215693</td>\n",
       "      <td>0.558894</td>\n",
       "    </tr>\n",
       "    <tr>\n",
       "      <th>COMMERCIAL_UNITS</th>\n",
       "      <td>-0.082578</td>\n",
       "      <td>0.149435</td>\n",
       "      <td>1.000000</td>\n",
       "      <td>0.306401</td>\n",
       "      <td>0.064640</td>\n",
       "      <td>0.195430</td>\n",
       "    </tr>\n",
       "    <tr>\n",
       "      <th>GROSS_SQUARE_FEET</th>\n",
       "      <td>0.048370</td>\n",
       "      <td>0.771761</td>\n",
       "      <td>0.306401</td>\n",
       "      <td>1.000000</td>\n",
       "      <td>0.399676</td>\n",
       "      <td>0.782826</td>\n",
       "    </tr>\n",
       "    <tr>\n",
       "      <th>LAND_SQUARE_FEET</th>\n",
       "      <td>-0.212966</td>\n",
       "      <td>0.215693</td>\n",
       "      <td>0.064640</td>\n",
       "      <td>0.399676</td>\n",
       "      <td>1.000000</td>\n",
       "      <td>0.428592</td>\n",
       "    </tr>\n",
       "    <tr>\n",
       "      <th>SALE_PRICE</th>\n",
       "      <td>0.105413</td>\n",
       "      <td>0.558894</td>\n",
       "      <td>0.195430</td>\n",
       "      <td>0.782826</td>\n",
       "      <td>0.428592</td>\n",
       "      <td>1.000000</td>\n",
       "    </tr>\n",
       "  </tbody>\n",
       "</table>\n",
       "</div>"
      ],
      "text/plain": [
       "                   YEAR_BUILT  RESIDENTIAL_UNITS  COMMERCIAL_UNITS  \\\n",
       "YEAR_BUILT           1.000000          -0.044512         -0.082578   \n",
       "RESIDENTIAL_UNITS   -0.044512           1.000000          0.149435   \n",
       "COMMERCIAL_UNITS    -0.082578           0.149435          1.000000   \n",
       "GROSS_SQUARE_FEET    0.048370           0.771761          0.306401   \n",
       "LAND_SQUARE_FEET    -0.212966           0.215693          0.064640   \n",
       "SALE_PRICE           0.105413           0.558894          0.195430   \n",
       "\n",
       "                   GROSS_SQUARE_FEET  LAND_SQUARE_FEET  SALE_PRICE  \n",
       "YEAR_BUILT                  0.048370         -0.212966    0.105413  \n",
       "RESIDENTIAL_UNITS           0.771761          0.215693    0.558894  \n",
       "COMMERCIAL_UNITS            0.306401          0.064640    0.195430  \n",
       "GROSS_SQUARE_FEET           1.000000          0.399676    0.782826  \n",
       "LAND_SQUARE_FEET            0.399676          1.000000    0.428592  \n",
       "SALE_PRICE                  0.782826          0.428592    1.000000  "
      ]
     },
     "execution_count": 18,
     "metadata": {
      "tags": []
     },
     "output_type": "execute_result"
    }
   ],
   "source": [
    "REStaten_[['YEAR_BUILT','RESIDENTIAL_UNITS','COMMERCIAL_UNITS','GROSS_SQUARE_FEET','LAND_SQUARE_FEET','SALE_PRICE']].corr()"
   ]
  },
  {
   "cell_type": "markdown",
   "metadata": {
    "colab_type": "text",
    "id": "P4nAN2TqxK-I"
   },
   "source": [
    "Size, land area and the number of residential units appear to demonstrate the strongest correlations"
   ]
  },
  {
   "cell_type": "markdown",
   "metadata": {
    "colab_type": "text",
    "id": "mvumxNM4xK-J"
   },
   "source": [
    "Perform a uni-variate linear regression on the feature showing the strongest correlation - the size"
   ]
  },
  {
   "cell_type": "code",
   "execution_count": null,
   "metadata": {
    "colab": {},
    "colab_type": "code",
    "id": "lXA7JAVYxK-J"
   },
   "outputs": [],
   "source": [
    "from sklearn.linear_model import LinearRegression"
   ]
  },
  {
   "cell_type": "code",
   "execution_count": null,
   "metadata": {
    "colab": {},
    "colab_type": "code",
    "id": "0KCfdfA6xK-P"
   },
   "outputs": [],
   "source": [
    "#fit the regression without intercept\n",
    "lm = LinearRegression(fit_intercept=False).fit(REStaten_[['GROSS_SQUARE_FEET']], REStaten_['SALE_PRICE'])"
   ]
  },
  {
   "cell_type": "code",
   "execution_count": null,
   "metadata": {
    "colab": {},
    "colab_type": "code",
    "id": "PXJ8OXRgxK-T",
    "outputId": "7b641830-1102-497f-edc4-082274ba16a2"
   },
   "outputs": [
    {
     "data": {
      "text/plain": [
       "array([287.9862361])"
      ]
     },
     "execution_count": 21,
     "metadata": {
      "tags": []
     },
     "output_type": "execute_result"
    }
   ],
   "source": [
    "#slope coefficient\n",
    "lm.coef_"
   ]
  },
  {
   "cell_type": "code",
   "execution_count": null,
   "metadata": {
    "colab": {},
    "colab_type": "code",
    "id": "mQRnJtonxK-W"
   },
   "outputs": [],
   "source": [
    "#fit regression with intercept\n",
    "lm = LinearRegression(fit_intercept=True).fit(REStaten_[['GROSS_SQUARE_FEET']], REStaten_['SALE_PRICE'])"
   ]
  },
  {
   "cell_type": "code",
   "execution_count": null,
   "metadata": {
    "colab": {},
    "colab_type": "code",
    "id": "_VGWL-i3xK-Y",
    "outputId": "3c8485c6-c769-4a43-c103-20da1df72b7c"
   },
   "outputs": [
    {
     "name": "stdout",
     "output_type": "stream",
     "text": [
      "Price~225.812850457*Size+170263.928826\n"
     ]
    }
   ],
   "source": [
    "print('Price~{}*Size+{}'.format(lm.coef_[0],lm.intercept_))"
   ]
  },
  {
   "cell_type": "markdown",
   "metadata": {
    "colab_type": "text",
    "id": "QxFtxGiUxK-b"
   },
   "source": [
    "Now standardize the sale_price and gross_square_feet by subtracting averages and dividing by standard deviation\n",
    "$$\n",
    "X^*:=(X-E[X])/\\sigma(X)\n",
    "$$\n",
    "Repeat the regression. Compare the regression coefficient against the correlation between sale_price and gross_square_feet. Do you find smth interesting here? Does the slope coefficient remind you something?"
   ]
  },
  {
   "cell_type": "code",
   "execution_count": null,
   "metadata": {
    "colab": {},
    "colab_type": "code",
    "id": "kq03AH8xxK-b"
   },
   "outputs": [],
   "source": [
    "REStaten_['PRICE_stand']=(REStaten_['SALE_PRICE']-REStaten_['SALE_PRICE'].mean())/REStaten_['SALE_PRICE'].std()"
   ]
  },
  {
   "cell_type": "code",
   "execution_count": null,
   "metadata": {
    "colab": {},
    "colab_type": "code",
    "id": "stZzWlTlxK-e"
   },
   "outputs": [],
   "source": [
    "REStaten_['SIZE_stand']=(REStaten_['GROSS_SQUARE_FEET']-REStaten_['GROSS_SQUARE_FEET'].mean())/REStaten_['GROSS_SQUARE_FEET'].std()"
   ]
  },
  {
   "cell_type": "code",
   "execution_count": null,
   "metadata": {
    "colab": {},
    "colab_type": "code",
    "id": "wCaQIhSxxK-g"
   },
   "outputs": [],
   "source": [
    "#alternative implementation with statistical summary"
   ]
  },
  {
   "cell_type": "code",
   "execution_count": null,
   "metadata": {
    "colab": {},
    "colab_type": "code",
    "id": "0BT9Z4XnxK-i",
    "outputId": "b4d7fa77-7de9-47be-f9a3-228ac2c97641"
   },
   "outputs": [
    {
     "name": "stdout",
     "output_type": "stream",
     "text": [
      "                            OLS Regression Results                            \n",
      "==============================================================================\n",
      "Dep. Variable:            PRICE_stand   R-squared:                       0.613\n",
      "Model:                            OLS   Adj. R-squared:                  0.613\n",
      "Method:                 Least Squares   F-statistic:                     7700.\n",
      "Date:                Wed, 09 Oct 2019   Prob (F-statistic):               0.00\n",
      "Time:                        16:33:11   Log-Likelihood:                -4595.5\n",
      "No. Observations:                4866   AIC:                             9193.\n",
      "Df Residuals:                    4865   BIC:                             9199.\n",
      "Df Model:                           1                                         \n",
      "Covariance Type:            nonrobust                                         \n",
      "==============================================================================\n",
      "                 coef    std err          t      P>|t|      [0.025      0.975]\n",
      "------------------------------------------------------------------------------\n",
      "SIZE_stand     0.7828      0.009     87.750      0.000       0.765       0.800\n",
      "==============================================================================\n",
      "Omnibus:                     4365.926   Durbin-Watson:                   1.768\n",
      "Prob(Omnibus):                  0.000   Jarque-Bera (JB):          7682326.884\n",
      "Skew:                           2.998   Prob(JB):                         0.00\n",
      "Kurtosis:                     197.563   Cond. No.                         1.00\n",
      "==============================================================================\n",
      "\n",
      "Warnings:\n",
      "[1] Standard Errors assume that the covariance matrix of the errors is correctly specified.\n"
     ]
    }
   ],
   "source": [
    "lm = smf.OLS(REStaten_['PRICE_stand'],REStaten_['SIZE_stand']).fit()\n",
    "print(lm.summary())"
   ]
  },
  {
   "cell_type": "code",
   "execution_count": null,
   "metadata": {
    "colab": {},
    "colab_type": "code",
    "id": "ErZZ_c6nxK-k",
    "outputId": "aaf31be5-d2c5-43e4-c023-63a5db2c5739"
   },
   "outputs": [
    {
     "name": "stdout",
     "output_type": "stream",
     "text": [
      "                            OLS Regression Results                            \n",
      "==============================================================================\n",
      "Dep. Variable:            PRICE_stand   R-squared:                       0.613\n",
      "Model:                            OLS   Adj. R-squared:                  0.613\n",
      "Method:                 Least Squares   F-statistic:                     7700.\n",
      "Date:                Wed, 09 Oct 2019   Prob (F-statistic):               0.00\n",
      "Time:                        16:33:11   Log-Likelihood:                -4595.5\n",
      "No. Observations:                4866   AIC:                             9193.\n",
      "Df Residuals:                    4865   BIC:                             9199.\n",
      "Df Model:                           1                                         \n",
      "Covariance Type:            nonrobust                                         \n",
      "==============================================================================\n",
      "                 coef    std err          t      P>|t|      [0.025      0.975]\n",
      "------------------------------------------------------------------------------\n",
      "SIZE_stand     0.7828      0.009     87.750      0.000       0.765       0.800\n",
      "==============================================================================\n",
      "Omnibus:                     4365.926   Durbin-Watson:                   1.768\n",
      "Prob(Omnibus):                  0.000   Jarque-Bera (JB):          7682326.884\n",
      "Skew:                           2.998   Prob(JB):                         0.00\n",
      "Kurtosis:                     197.563   Cond. No.                         1.00\n",
      "==============================================================================\n",
      "\n",
      "Warnings:\n",
      "[1] Standard Errors assume that the covariance matrix of the errors is correctly specified.\n"
     ]
    }
   ],
   "source": [
    "#alternative with fomulae (-1 stands for no intercept as it inclused one by default)\n",
    "lm = smf.ols(formula='PRICE_stand~SIZE_stand-1', data = REStaten_).fit()\n",
    "print(lm.summary())"
   ]
  },
  {
   "cell_type": "code",
   "execution_count": null,
   "metadata": {
    "colab": {},
    "colab_type": "code",
    "id": "UjoxTSSGxK-n",
    "outputId": "8258091f-7932-426f-ac9a-a235aa164127"
   },
   "outputs": [
    {
     "name": "stdout",
     "output_type": "stream",
     "text": [
      "                            OLS Regression Results                            \n",
      "==============================================================================\n",
      "Dep. Variable:             SALE_PRICE   R-squared:                       0.613\n",
      "Model:                            OLS   Adj. R-squared:                  0.613\n",
      "Method:                 Least Squares   F-statistic:                     7698.\n",
      "Date:                Wed, 09 Oct 2019   Prob (F-statistic):               0.00\n",
      "Time:                        16:33:11   Log-Likelihood:                -67117.\n",
      "No. Observations:                4866   AIC:                         1.342e+05\n",
      "Df Residuals:                    4864   BIC:                         1.343e+05\n",
      "Df Model:                           1                                         \n",
      "Covariance Type:            nonrobust                                         \n",
      "=====================================================================================\n",
      "                        coef    std err          t      P>|t|      [0.025      0.975]\n",
      "-------------------------------------------------------------------------------------\n",
      "Intercept          1.703e+05   5618.037     30.307      0.000    1.59e+05    1.81e+05\n",
      "GROSS_SQUARE_FEET   225.8129      2.574     87.741      0.000     220.767     230.858\n",
      "==============================================================================\n",
      "Omnibus:                     4365.926   Durbin-Watson:                   1.768\n",
      "Prob(Omnibus):                  0.000   Jarque-Bera (JB):          7682326.884\n",
      "Skew:                           2.998   Prob(JB):                         0.00\n",
      "Kurtosis:                     197.563   Cond. No.                     3.62e+03\n",
      "==============================================================================\n",
      "\n",
      "Warnings:\n",
      "[1] Standard Errors assume that the covariance matrix of the errors is correctly specified.\n",
      "[2] The condition number is large, 3.62e+03. This might indicate that there are\n",
      "strong multicollinearity or other numerical problems.\n"
     ]
    }
   ],
   "source": [
    "#now get back to the orignal non-standardised regression\n",
    "lm = smf.ols(formula='SALE_PRICE~GROSS_SQUARE_FEET', data = REStaten_).fit()\n",
    "print(lm.summary())"
   ]
  },
  {
   "cell_type": "code",
   "execution_count": null,
   "metadata": {
    "colab": {},
    "colab_type": "code",
    "id": "VhnMPQIRxK-q",
    "outputId": "641cc96d-4540-4092-94b3-d73f2604e254"
   },
   "outputs": [
    {
     "name": "stdout",
     "output_type": "stream",
     "text": [
      "                            OLS Regression Results                            \n",
      "==============================================================================\n",
      "Dep. Variable:             SALE_PRICE   R-squared:                       0.856\n",
      "Model:                            OLS   Adj. R-squared:                  0.856\n",
      "Method:                 Least Squares   F-statistic:                 2.889e+04\n",
      "Date:                Wed, 09 Oct 2019   Prob (F-statistic):               0.00\n",
      "Time:                        16:33:11   Log-Likelihood:                -67538.\n",
      "No. Observations:                4866   AIC:                         1.351e+05\n",
      "Df Residuals:                    4865   BIC:                         1.351e+05\n",
      "Df Model:                           1                                         \n",
      "Covariance Type:            nonrobust                                         \n",
      "=====================================================================================\n",
      "                        coef    std err          t      P>|t|      [0.025      0.975]\n",
      "-------------------------------------------------------------------------------------\n",
      "GROSS_SQUARE_FEET   287.9862      1.694    169.979      0.000     284.665     291.308\n",
      "==============================================================================\n",
      "Omnibus:                     6009.932   Durbin-Watson:                   1.540\n",
      "Prob(Omnibus):                  0.000   Jarque-Bera (JB):          9537864.505\n",
      "Skew:                          -5.729   Prob(JB):                         0.00\n",
      "Kurtosis:                     219.590   Cond. No.                         1.00\n",
      "==============================================================================\n",
      "\n",
      "Warnings:\n",
      "[1] Standard Errors assume that the covariance matrix of the errors is correctly specified.\n"
     ]
    }
   ],
   "source": [
    "#without intercept\n",
    "lm = smf.ols(formula='SALE_PRICE~GROSS_SQUARE_FEET-1', data = REStaten_).fit()\n",
    "print(lm.summary())"
   ]
  },
  {
   "cell_type": "markdown",
   "metadata": {
    "colab_type": "text",
    "id": "zmhu0N5IxK-t"
   },
   "source": [
    "The summary does not only return the coefficient estimate but also a lot of statistics including standard error and confidence interval for it. Where do those come from as the formulae (2.3) seem perfectly robust. Illustrate uncertainty in the model estimates using the experiment below."
   ]
  },
  {
   "cell_type": "code",
   "execution_count": null,
   "metadata": {
    "colab": {},
    "colab_type": "code",
    "id": "9eFV5oAHxK-u"
   },
   "outputs": [],
   "source": [
    "#perform regression on 100 subsamples\n",
    "np.random.seed(2019)\n",
    "W=[]\n",
    "for i in range(0,100):\n",
    "    df=REStaten_.sample(frac=0.99)\n",
    "    lm = smf.ols(formula='SALE_PRICE~GROSS_SQUARE_FEET-1', data = df).fit()\n",
    "    W+=[lm.params.GROSS_SQUARE_FEET]"
   ]
  },
  {
   "cell_type": "code",
   "execution_count": null,
   "metadata": {
    "colab": {},
    "colab_type": "code",
    "id": "4dEUsdBjxK-y",
    "outputId": "af508228-7f38-489e-9780-d5cafb40d0d7"
   },
   "outputs": [
    {
     "data": {
      "text/plain": [
       "287.97094096712567"
      ]
     },
     "execution_count": 32,
     "metadata": {
      "tags": []
     },
     "output_type": "execute_result"
    }
   ],
   "source": [
    "#and report mean and standard deviations of the resulting slope coefficients\n",
    "np.array(W).mean()"
   ]
  },
  {
   "cell_type": "code",
   "execution_count": null,
   "metadata": {
    "colab": {},
    "colab_type": "code",
    "id": "VNwmXodIxK-2",
    "outputId": "7a87febc-0c1a-41f1-ef79-2df7fbade3a2"
   },
   "outputs": [
    {
     "data": {
      "text/plain": [
       "1.6938576270438839"
      ]
     },
     "execution_count": 33,
     "metadata": {
      "tags": []
     },
     "output_type": "execute_result"
    }
   ],
   "source": [
    "np.array(W).std()"
   ]
  },
  {
   "cell_type": "markdown",
   "metadata": {
    "colab_type": "text",
    "id": "1UXJBNhLxK-8"
   },
   "source": [
    "but mind the fact that variance will actually depend on the sample sizes and there is no direct correspondence - it was coincidental that the std of our experiments matched standard error reported in the regression summary. Those are different concepts. This experiment is just an illustration of the idea"
   ]
  },
  {
   "cell_type": "markdown",
   "metadata": {
    "colab_type": "text",
    "id": "0QgILrAMxK-8"
   },
   "source": [
    "Visualizations might give an idea on how regression performs "
   ]
  },
  {
   "cell_type": "code",
   "execution_count": null,
   "metadata": {
    "colab": {},
    "colab_type": "code",
    "id": "zUnsXYwgxK-9",
    "outputId": "5f6b6990-3537-48d4-8487-995a2e82c075"
   },
   "outputs": [
    {
     "data": {
      "text/plain": [
       "<matplotlib.axes._subplots.AxesSubplot at 0x1a1a051610>"
      ]
     },
     "execution_count": 34,
     "metadata": {
      "tags": []
     },
     "output_type": "execute_result"
    },
    {
     "data": {
      "image/png": "[encoded data removed]",
      "text/plain": [
       "<Figure size 432x288 with 1 Axes>"
      ]
     },
     "metadata": {
      "needs_background": "light",
      "tags": []
     },
     "output_type": "display_data"
    }
   ],
   "source": [
    "#first visualize the data\n",
    "REStaten_.plot(x='GROSS_SQUARE_FEET',y='SALE_PRICE',kind='scatter')"
   ]
  },
  {
   "cell_type": "code",
   "execution_count": null,
   "metadata": {
    "colab": {},
    "colab_type": "code",
    "id": "XLiICxdTxK_C",
    "outputId": "01126366-8953-430a-d4fa-77b9850e6f15"
   },
   "outputs": [
    {
     "data": {
      "text/plain": [
       "<matplotlib.axes._subplots.AxesSubplot at 0x1a1a8a4350>"
      ]
     },
     "execution_count": 35,
     "metadata": {
      "tags": []
     },
     "output_type": "execute_result"
    },
    {
     "data": {
      "image/png": "[encoded data removed]",
      "text/plain": [
       "<Figure size 432x288 with 1 Axes>"
      ]
     },
     "metadata": {
      "needs_background": "light",
      "tags": []
     },
     "output_type": "display_data"
    }
   ],
   "source": [
    "#as outliers dominate and the distributions are skewed consider log-scale\n",
    "REStaten_.plot(x='GROSS_SQUARE_FEET',y='SALE_PRICE',kind='scatter', logx=True, logy=True)"
   ]
  },
  {
   "cell_type": "code",
   "execution_count": null,
   "metadata": {
    "colab": {},
    "colab_type": "code",
    "id": "vXcdt1ekxK_F"
   },
   "outputs": [],
   "source": [
    "#obtain values predicted by the regression\n",
    "lm = smf.ols(formula='SALE_PRICE~GROSS_SQUARE_FEET-1', data = REStaten_).fit()\n",
    "REStaten_['predicted_price']=lm.predict()"
   ]
  },
  {
   "cell_type": "code",
   "execution_count": null,
   "metadata": {
    "colab": {},
    "colab_type": "code",
    "id": "mNgruX8exK_I",
    "outputId": "81c2b7dc-91ef-46c7-ed2e-34c11eed4925"
   },
   "outputs": [
    {
     "data": {
      "text/html": [
       "<div>\n",
       "<style scoped>\n",
       "    .dataframe tbody tr th:only-of-type {\n",
       "        vertical-align: middle;\n",
       "    }\n",
       "\n",
       "    .dataframe tbody tr th {\n",
       "        vertical-align: top;\n",
       "    }\n",
       "\n",
       "    .dataframe thead th {\n",
       "        text-align: right;\n",
       "    }\n",
       "</style>\n",
       "<table border=\"1\" class=\"dataframe\">\n",
       "  <thead>\n",
       "    <tr style=\"text-align: right;\">\n",
       "      <th></th>\n",
       "      <th>SALE_PRICE</th>\n",
       "      <th>predicted_price</th>\n",
       "    </tr>\n",
       "  </thead>\n",
       "  <tbody>\n",
       "    <tr>\n",
       "      <th>0</th>\n",
       "      <td>1185000</td>\n",
       "      <td>863958.708302</td>\n",
       "    </tr>\n",
       "    <tr>\n",
       "      <th>1</th>\n",
       "      <td>866000</td>\n",
       "      <td>642209.306505</td>\n",
       "    </tr>\n",
       "    <tr>\n",
       "      <th>2</th>\n",
       "      <td>530000</td>\n",
       "      <td>262643.447324</td>\n",
       "    </tr>\n",
       "    <tr>\n",
       "      <th>3</th>\n",
       "      <td>735000</td>\n",
       "      <td>509159.665426</td>\n",
       "    </tr>\n",
       "    <tr>\n",
       "      <th>4</th>\n",
       "      <td>475000</td>\n",
       "      <td>454730.266803</td>\n",
       "    </tr>\n",
       "  </tbody>\n",
       "</table>\n",
       "</div>"
      ],
      "text/plain": [
       "   SALE_PRICE  predicted_price\n",
       "0     1185000    863958.708302\n",
       "1      866000    642209.306505\n",
       "2      530000    262643.447324\n",
       "3      735000    509159.665426\n",
       "4      475000    454730.266803"
      ]
     },
     "execution_count": 37,
     "metadata": {
      "tags": []
     },
     "output_type": "execute_result"
    }
   ],
   "source": [
    "REStaten_[['SALE_PRICE','predicted_price']].head()"
   ]
  },
  {
   "cell_type": "code",
   "execution_count": null,
   "metadata": {
    "colab": {},
    "colab_type": "code",
    "id": "Z4o8WHb9xK_L",
    "outputId": "8d320027-c481-4e31-8345-c39a8590ad8f"
   },
   "outputs": [
    {
     "data": {
      "image/png": "[encoded data removed]",
      "text/plain": [
       "<Figure size 432x288 with 1 Axes>"
      ]
     },
     "metadata": {
      "needs_background": "light",
      "tags": []
     },
     "output_type": "display_data"
    }
   ],
   "source": [
    "fig, ax = plt.subplots() #get axis to plot on\n",
    "ax.set_xscale('log'); ax.set_yscale('log') #set up log-scale for axis\n",
    "REStaten_.plot(ax=ax,kind='scatter',x='GROSS_SQUARE_FEET',y='SALE_PRICE') #show the data\n",
    "ax.plot(REStaten_.GROSS_SQUARE_FEET,REStaten_.predicted_price,'r-'); #show the regression line"
   ]
  },
  {
   "cell_type": "code",
   "execution_count": null,
   "metadata": {
    "colab": {},
    "colab_type": "code",
    "id": "pqElgA5_xK_N",
    "outputId": "02d8342e-2e47-4986-ce7f-5408423e11cf"
   },
   "outputs": [
    {
     "data": {
      "image/png": "[encoded data removed]",
      "text/plain": [
       "<Figure size 432x288 with 1 Axes>"
      ]
     },
     "metadata": {
      "needs_background": "light",
      "tags": []
     },
     "output_type": "display_data"
    }
   ],
   "source": [
    "#another way - visualize actual values vs predicted (works also for multi-variate regressions)\n",
    "fig, ax = plt.subplots() #get axis to plot on\n",
    "ax.set_xscale('log'); ax.set_yscale('log') #set up log-scale for axis\n",
    "REStaten_.plot(ax=ax,kind='scatter',x='predicted_price',y='SALE_PRICE') #show the data\n",
    "ax.plot(REStaten_.predicted_price,REStaten_.predicted_price,'r-'); #show the regression line"
   ]
  },
  {
   "cell_type": "markdown",
   "metadata": {
    "colab_type": "text",
    "id": "MtETpUe4xK_R"
   },
   "source": [
    "### In-class task 1. Perform regressions on the remaining regressors: \n",
    "LAND_SQUARE_FEET,YEAR_BUILT,RESIDENTIAL_UNITS,COMMERCIAL_UNITS, with intercept. Visualize the regression fit\n",
    "\n",
    "Report results (together with those for GROSS_SQ_FEET) in a data frame with the following columns: \n",
    "slope | intercept | R2, having regressors as index. R-squared could be obtained through lm.rsquared"
   ]
  },
  {
   "cell_type": "code",
   "execution_count": null,
   "metadata": {
    "colab": {},
    "colab_type": "code",
    "id": "3HGbdnCExK_U"
   },
   "outputs": [],
   "source": [
    "regressors=['GROSS_SQUARE_FEET','LAND_SQUARE_FEET','YEAR_BUILT','RESIDENTIAL_UNITS','COMMERCIAL_UNITS']"
   ]
  },
  {
   "cell_type": "code",
   "execution_count": null,
   "metadata": {
    "colab": {},
    "colab_type": "code",
    "id": "9IBcOea3xK_X",
    "outputId": "645840d6-2b85-41c1-db48-5847e274ef40"
   },
   "outputs": [
    {
     "data": {
      "text/html": [
       "<div>\n",
       "<style scoped>\n",
       "    .dataframe tbody tr th:only-of-type {\n",
       "        vertical-align: middle;\n",
       "    }\n",
       "\n",
       "    .dataframe tbody tr th {\n",
       "        vertical-align: top;\n",
       "    }\n",
       "\n",
       "    .dataframe thead th {\n",
       "        text-align: right;\n",
       "    }\n",
       "</style>\n",
       "<table border=\"1\" class=\"dataframe\">\n",
       "  <thead>\n",
       "    <tr style=\"text-align: right;\">\n",
       "      <th></th>\n",
       "      <th>Slope</th>\n",
       "      <th>Intercept</th>\n",
       "      <th>R2</th>\n",
       "    </tr>\n",
       "  </thead>\n",
       "  <tbody>\n",
       "    <tr>\n",
       "      <th>GROSS_SQUARE_FEET</th>\n",
       "      <td>225.812418</td>\n",
       "      <td>1.702512e+05</td>\n",
       "      <td>0.612628</td>\n",
       "    </tr>\n",
       "    <tr>\n",
       "      <th>LAND_SQUARE_FEET</th>\n",
       "      <td>50.438642</td>\n",
       "      <td>3.661008e+05</td>\n",
       "      <td>0.183443</td>\n",
       "    </tr>\n",
       "    <tr>\n",
       "      <th>YEAR_BUILT</th>\n",
       "      <td>1263.783459</td>\n",
       "      <td>-1.923054e+06</td>\n",
       "      <td>0.011115</td>\n",
       "    </tr>\n",
       "    <tr>\n",
       "      <th>RESIDENTIAL_UNITS</th>\n",
       "      <td>188490.395906</td>\n",
       "      <td>3.102997e+05</td>\n",
       "      <td>0.313189</td>\n",
       "    </tr>\n",
       "    <tr>\n",
       "      <th>COMMERCIAL_UNITS</th>\n",
       "      <td>369846.140723</td>\n",
       "      <td>5.565201e+05</td>\n",
       "      <td>0.038305</td>\n",
       "    </tr>\n",
       "  </tbody>\n",
       "</table>\n",
       "</div>"
      ],
      "text/plain": [
       "                           Slope     Intercept        R2\n",
       "GROSS_SQUARE_FEET     225.812418  1.702512e+05  0.612628\n",
       "LAND_SQUARE_FEET       50.438642  3.661008e+05  0.183443\n",
       "YEAR_BUILT           1263.783459 -1.923054e+06  0.011115\n",
       "RESIDENTIAL_UNITS  188490.395906  3.102997e+05  0.313189\n",
       "COMMERCIAL_UNITS   369846.140723  5.565201e+05  0.038305"
      ]
     },
     "execution_count": 41,
     "metadata": {
      "tags": []
     },
     "output_type": "execute_result"
    }
   ],
   "source": [
    "res=[]\n",
    "for r in regressors:\n",
    "    lm=smf.ols(formula='SALE_PRICE~'+r, data = df).fit();\n",
    "    res+=[[lm.params[r], lm.params.Intercept, lm.rsquared]]\n",
    "pd.DataFrame(res,columns=['Slope','Intercept','R2'],index=regressors)"
   ]
  },
  {
   "cell_type": "markdown",
   "metadata": {
    "colab_type": "text",
    "id": "DSzHEeHYxK_a"
   },
   "source": [
    "## Multi-variate regression case"
   ]
  },
  {
   "cell_type": "markdown",
   "metadata": {
    "colab_type": "text",
    "id": "03glQo_FxK_a"
   },
   "source": [
    "Now try multivariate regression on GROSS_SQUARE_FEET+LAND_SQUARE_FEET+YEAR_BUILT together"
   ]
  },
  {
   "cell_type": "code",
   "execution_count": null,
   "metadata": {
    "colab": {},
    "colab_type": "code",
    "id": "ymANQ17JxK_d",
    "outputId": "ca4ab861-5cec-4e69-e7ca-5edfa6e6db6d"
   },
   "outputs": [
    {
     "name": "stdout",
     "output_type": "stream",
     "text": [
      "                            OLS Regression Results                            \n",
      "==============================================================================\n",
      "Dep. Variable:             SALE_PRICE   R-squared:                       0.639\n",
      "Model:                            OLS   Adj. R-squared:                  0.639\n",
      "Method:                 Least Squares   F-statistic:                     2873.\n",
      "Date:                Wed, 09 Oct 2019   Prob (F-statistic):               0.00\n",
      "Time:                        16:33:13   Log-Likelihood:                -66944.\n",
      "No. Observations:                4866   AIC:                         1.339e+05\n",
      "Df Residuals:                    4862   BIC:                         1.339e+05\n",
      "Df Model:                           3                                         \n",
      "Covariance Type:            nonrobust                                         \n",
      "=====================================================================================\n",
      "                        coef    std err          t      P>|t|      [0.025      0.975]\n",
      "-------------------------------------------------------------------------------------\n",
      "Intercept         -2.378e+06    2.1e+05    -11.317      0.000   -2.79e+06   -1.97e+06\n",
      "GROSS_SQUARE_FEET   205.0491      2.741     74.813      0.000     199.676     210.422\n",
      "LAND_SQUARE_FEET     19.6806      1.143     17.213      0.000      17.439      21.922\n",
      "YEAR_BUILT         1274.4885    106.540     11.963      0.000    1065.622    1483.355\n",
      "==============================================================================\n",
      "Omnibus:                     6076.460   Durbin-Watson:                   1.876\n",
      "Prob(Omnibus):                  0.000   Jarque-Bera (JB):         16211561.583\n",
      "Skew:                           5.694   Prob(JB):                         0.00\n",
      "Kurtosis:                     285.540   Cond. No.                     3.59e+05\n",
      "==============================================================================\n",
      "\n",
      "Warnings:\n",
      "[1] Standard Errors assume that the covariance matrix of the errors is correctly specified.\n",
      "[2] The condition number is large, 3.59e+05. This might indicate that there are\n",
      "strong multicollinearity or other numerical problems.\n"
     ]
    }
   ],
   "source": [
    "lm = smf.ols(formula='SALE_PRICE~GROSS_SQUARE_FEET+LAND_SQUARE_FEET+YEAR_BUILT', data = REStaten_).fit()\n",
    "print(lm.summary())"
   ]
  },
  {
   "cell_type": "code",
   "execution_count": null,
   "metadata": {
    "colab": {},
    "colab_type": "code",
    "id": "t4siWXMOxK_f"
   },
   "outputs": [],
   "source": [
    "#notice that the coefficient for the gross_square_feet have changed again - likely due to the correlation with land size"
   ]
  },
  {
   "cell_type": "markdown",
   "metadata": {
    "colab_type": "text",
    "id": "ARqYMDYhxK_h"
   },
   "source": [
    "Now try multivariate regression on RESIDENTIAL_UNITS+COMMERCIAL_UNITS together"
   ]
  },
  {
   "cell_type": "code",
   "execution_count": null,
   "metadata": {
    "colab": {},
    "colab_type": "code",
    "id": "Ju9YkRPjxK_h",
    "outputId": "1c94677c-60a2-4fd2-c86e-34af5c00ec25"
   },
   "outputs": [
    {
     "name": "stdout",
     "output_type": "stream",
     "text": [
      "                            OLS Regression Results                            \n",
      "==============================================================================\n",
      "Dep. Variable:             SALE_PRICE   R-squared:                       0.325\n",
      "Model:                            OLS   Adj. R-squared:                  0.325\n",
      "Method:                 Least Squares   F-statistic:                     1172.\n",
      "Date:                Wed, 09 Oct 2019   Prob (F-statistic):               0.00\n",
      "Time:                        16:33:13   Log-Likelihood:                -68468.\n",
      "No. Observations:                4866   AIC:                         1.369e+05\n",
      "Df Residuals:                    4863   BIC:                         1.370e+05\n",
      "Df Model:                           2                                         \n",
      "Covariance Type:            nonrobust                                         \n",
      "=====================================================================================\n",
      "                        coef    std err          t      P>|t|      [0.025      0.975]\n",
      "-------------------------------------------------------------------------------------\n",
      "Intercept          3.142e+05   6971.526     45.075      0.000    3.01e+05    3.28e+05\n",
      "RESIDENTIAL_UNITS  1.825e+05   4013.824     45.476      0.000    1.75e+05     1.9e+05\n",
      "COMMERCIAL_UNITS   2.166e+05   2.25e+04      9.608      0.000    1.72e+05    2.61e+05\n",
      "==============================================================================\n",
      "Omnibus:                     8411.585   Durbin-Watson:                   1.595\n",
      "Prob(Omnibus):                  0.000   Jarque-Bera (JB):         36902325.927\n",
      "Skew:                          11.312   Prob(JB):                         0.00\n",
      "Kurtosis:                     429.025   Cond. No.                         9.73\n",
      "==============================================================================\n",
      "\n",
      "Warnings:\n",
      "[1] Standard Errors assume that the covariance matrix of the errors is correctly specified.\n"
     ]
    }
   ],
   "source": [
    "lm = smf.ols(formula='SALE_PRICE~RESIDENTIAL_UNITS+COMMERCIAL_UNITS', data = REStaten_).fit()\n",
    "print(lm.summary())"
   ]
  },
  {
   "cell_type": "markdown",
   "metadata": {
    "colab_type": "text",
    "id": "CtobMRfnxK_l"
   },
   "source": [
    "And now combine all the variables together"
   ]
  },
  {
   "cell_type": "code",
   "execution_count": null,
   "metadata": {
    "colab": {},
    "colab_type": "code",
    "id": "wUguZr3CxK_m",
    "outputId": "2fed2b95-a786-4d7f-dd7e-80ac60d5fecd"
   },
   "outputs": [
    {
     "name": "stdout",
     "output_type": "stream",
     "text": [
      "                            OLS Regression Results                            \n",
      "==============================================================================\n",
      "Dep. Variable:             SALE_PRICE   R-squared:                       0.642\n",
      "Model:                            OLS   Adj. R-squared:                  0.641\n",
      "Method:                 Least Squares   F-statistic:                     1740.\n",
      "Date:                Wed, 09 Oct 2019   Prob (F-statistic):               0.00\n",
      "Time:                        16:33:13   Log-Likelihood:                -66929.\n",
      "No. Observations:                4866   AIC:                         1.339e+05\n",
      "Df Residuals:                    4860   BIC:                         1.339e+05\n",
      "Df Model:                           5                                         \n",
      "Covariance Type:            nonrobust                                         \n",
      "=====================================================================================\n",
      "                        coef    std err          t      P>|t|      [0.025      0.975]\n",
      "-------------------------------------------------------------------------------------\n",
      "Intercept         -2.099e+06   2.16e+05     -9.733      0.000   -2.52e+06   -1.68e+06\n",
      "GROSS_SQUARE_FEET   224.2513      4.594     48.812      0.000     215.245     233.258\n",
      "LAND_SQUARE_FEET     18.1697      1.174     15.479      0.000      15.868      20.471\n",
      "YEAR_BUILT         1134.0588    109.273     10.378      0.000     919.833    1348.284\n",
      "RESIDENTIAL_UNITS -2.186e+04   4762.845     -4.590      0.000   -3.12e+04   -1.25e+04\n",
      "COMMERCIAL_UNITS  -6.665e+04   1.75e+04     -3.800      0.000   -1.01e+05   -3.23e+04\n",
      "==============================================================================\n",
      "Omnibus:                     6200.172   Durbin-Watson:                   1.885\n",
      "Prob(Omnibus):                  0.000   Jarque-Bera (JB):         15615680.067\n",
      "Skew:                           5.956   Prob(JB):                         0.00\n",
      "Kurtosis:                     280.268   Cond. No.                     3.69e+05\n",
      "==============================================================================\n",
      "\n",
      "Warnings:\n",
      "[1] Standard Errors assume that the covariance matrix of the errors is correctly specified.\n",
      "[2] The condition number is large, 3.69e+05. This might indicate that there are\n",
      "strong multicollinearity or other numerical problems.\n"
     ]
    }
   ],
   "source": [
    "lm = smf.ols(formula='SALE_PRICE~GROSS_SQUARE_FEET+LAND_SQUARE_FEET+YEAR_BUILT+RESIDENTIAL_UNITS+COMMERCIAL_UNITS', data = REStaten_).fit()\n",
    "print(lm.summary())"
   ]
  },
  {
   "cell_type": "markdown",
   "metadata": {
    "colab_type": "text",
    "id": "1AO7XpgqxK_o"
   },
   "source": [
    "Again, the coefficients have changed, but now, surprisingly, now the impact of residential and commercial units seem to be negative!"
   ]
  },
  {
   "cell_type": "markdown",
   "metadata": {
    "colab_type": "text",
    "id": "XdUtfsIexK_p"
   },
   "source": [
    "This is because they are strongly correlated with house size and for the houses of the same size, slicing them into the larger number of smaller units does not seem to increase the price anymore. However we should be careful with interpretations when the regressors are correlated "
   ]
  },
  {
   "cell_type": "code",
   "execution_count": null,
   "metadata": {
    "colab": {},
    "colab_type": "code",
    "id": "PGbYhC1YxK_q"
   },
   "outputs": [],
   "source": []
  },
  {
   "cell_type": "markdown",
   "metadata": {
    "colab_type": "text",
    "id": "iWNiYBHKxK_t"
   },
   "source": [
    "## Homework task 1\n",
    "Analize the single familty houses (RESIDENTIAL_UNITS==1, COMMERCIAL_UNITS==0) separately"
   ]
  },
  {
   "cell_type": "code",
   "execution_count": null,
   "metadata": {
    "colab": {},
    "colab_type": "code",
    "id": "inKeHYXixK_u"
   },
   "outputs": [],
   "source": [
    "sfind=(REStaten_.RESIDENTIAL_UNITS==1)&(REStaten_.COMMERCIAL_UNITS==0)\n",
    "REStaten_sf=REStaten_.loc[sfind].copy()"
   ]
  },
  {
   "cell_type": "code",
   "execution_count": null,
   "metadata": {
    "colab": {},
    "colab_type": "code",
    "id": "cEwDzQjRxK_v"
   },
   "outputs": [],
   "source": []
  },
  {
   "cell_type": "markdown",
   "metadata": {
    "colab_type": "text",
    "id": "BSQhRUE3xK_x"
   },
   "source": [
    "Q1. Find the single-family house with the highest price per square foot"
   ]
  },
  {
   "cell_type": "code",
   "execution_count": null,
   "metadata": {
    "colab": {},
    "colab_type": "code",
    "id": "wj0ZsiuxxK_x"
   },
   "outputs": [],
   "source": [
    "REStaten_sf['PRICE_SQF']=REStaten_sf['SALE_PRICE']/REStaten_sf['GROSS_SQUARE_FEET']"
   ]
  },
  {
   "cell_type": "code",
   "execution_count": null,
   "metadata": {
    "colab": {},
    "colab_type": "code",
    "id": "ZWcadearxK_z",
    "outputId": "2ba08cfe-8de7-4592-b706-66b7041e5d13"
   },
   "outputs": [
    {
     "data": {
      "text/plain": [
       "BOROUGH                                                                     5\n",
       "NEIGHBORHOOD                                                    OAKWOOD-BEACH\n",
       "BUILDING_CLASS_CATEGORY           01 ONE FAMILY DWELLINGS                    \n",
       "TAX_CLASS_AT_PRESENT                                                        1\n",
       "BLOCK                                                                    4678\n",
       "LOT                                                                         1\n",
       "EASE-MENT                                                                    \n",
       "BUILDING_CLASS_AT_PRESENT                                                  A1\n",
       "ADDRESS                                                     402 GUYON AVENUE \n",
       "APARTMENT_NUMBER                                                             \n",
       "ZIP_CODE                                                                10306\n",
       "RESIDENTIAL_UNITS                                                           1\n",
       "COMMERCIAL_UNITS                                                            0\n",
       "TOTAL_UNITS                                                                 1\n",
       "LAND_SQUARE_FEET                                                        40000\n",
       "GROSS_SQUARE_FEET                                                        2146\n",
       "YEAR_BUILT                                                               1920\n",
       "TAX_CLASS_AT_TIME_OF_SALE                                                   1\n",
       "BUILDING_CLASS_AT_TIME_OF_SALE                                            A1 \n",
       "SALE_PRICE                                                            4100000\n",
       "SALE_DATE                                                              6/4/18\n",
       "PRICE_stand                                                           9.30104\n",
       "SIZE_stand                                                           0.307954\n",
       "predicted_price                                                        618018\n",
       "PRICE_SQF                                                             1910.53\n",
       "Name: 5484, dtype: object"
      ]
     },
     "execution_count": 48,
     "metadata": {
      "tags": []
     },
     "output_type": "execute_result"
    }
   ],
   "source": [
    "REStaten_sf.loc[REStaten_sf['PRICE_SQF'].idxmax()]"
   ]
  },
  {
   "cell_type": "markdown",
   "metadata": {
    "colab_type": "text",
    "id": "ygvEjsuNxK_1"
   },
   "source": [
    "Q2. Build correlation matrix for YEAR_BUILT,GROSS_SQUARE_FEET, LAND_SQUARE_FEET"
   ]
  },
  {
   "cell_type": "code",
   "execution_count": null,
   "metadata": {
    "colab": {},
    "colab_type": "code",
    "id": "qKq3wAnLxK_2",
    "outputId": "9e577cab-587a-4e63-b645-802f16829a0d"
   },
   "outputs": [
    {
     "data": {
      "text/html": [
       "<div>\n",
       "<style scoped>\n",
       "    .dataframe tbody tr th:only-of-type {\n",
       "        vertical-align: middle;\n",
       "    }\n",
       "\n",
       "    .dataframe tbody tr th {\n",
       "        vertical-align: top;\n",
       "    }\n",
       "\n",
       "    .dataframe thead th {\n",
       "        text-align: right;\n",
       "    }\n",
       "</style>\n",
       "<table border=\"1\" class=\"dataframe\">\n",
       "  <thead>\n",
       "    <tr style=\"text-align: right;\">\n",
       "      <th></th>\n",
       "      <th>YEAR_BUILT</th>\n",
       "      <th>GROSS_SQUARE_FEET</th>\n",
       "      <th>LAND_SQUARE_FEET</th>\n",
       "      <th>SALE_PRICE</th>\n",
       "    </tr>\n",
       "  </thead>\n",
       "  <tbody>\n",
       "    <tr>\n",
       "      <th>YEAR_BUILT</th>\n",
       "      <td>1.000000</td>\n",
       "      <td>0.143736</td>\n",
       "      <td>-0.260088</td>\n",
       "      <td>0.085275</td>\n",
       "    </tr>\n",
       "    <tr>\n",
       "      <th>GROSS_SQUARE_FEET</th>\n",
       "      <td>0.143736</td>\n",
       "      <td>1.000000</td>\n",
       "      <td>0.515321</td>\n",
       "      <td>0.669470</td>\n",
       "    </tr>\n",
       "    <tr>\n",
       "      <th>LAND_SQUARE_FEET</th>\n",
       "      <td>-0.260088</td>\n",
       "      <td>0.515321</td>\n",
       "      <td>1.000000</td>\n",
       "      <td>0.610329</td>\n",
       "    </tr>\n",
       "    <tr>\n",
       "      <th>SALE_PRICE</th>\n",
       "      <td>0.085275</td>\n",
       "      <td>0.669470</td>\n",
       "      <td>0.610329</td>\n",
       "      <td>1.000000</td>\n",
       "    </tr>\n",
       "  </tbody>\n",
       "</table>\n",
       "</div>"
      ],
      "text/plain": [
       "                   YEAR_BUILT  GROSS_SQUARE_FEET  LAND_SQUARE_FEET  SALE_PRICE\n",
       "YEAR_BUILT           1.000000           0.143736         -0.260088    0.085275\n",
       "GROSS_SQUARE_FEET    0.143736           1.000000          0.515321    0.669470\n",
       "LAND_SQUARE_FEET    -0.260088           0.515321          1.000000    0.610329\n",
       "SALE_PRICE           0.085275           0.669470          0.610329    1.000000"
      ]
     },
     "execution_count": 49,
     "metadata": {
      "tags": []
     },
     "output_type": "execute_result"
    }
   ],
   "source": [
    "REStaten_sf[['YEAR_BUILT','GROSS_SQUARE_FEET','LAND_SQUARE_FEET','SALE_PRICE']].corr()"
   ]
  },
  {
   "cell_type": "markdown",
   "metadata": {
    "colab_type": "text",
    "id": "rJ_mbbibxK_5"
   },
   "source": [
    "Q3. Perform the SALE_PRICE~GROSS_SQUARE_FEET+LAND_SQUARE_FEET+YEAR_BUILT regression using any of the methods above. Visualize the fit"
   ]
  },
  {
   "cell_type": "code",
   "execution_count": null,
   "metadata": {
    "colab": {},
    "colab_type": "code",
    "id": "P0d9DVUZxK_6",
    "outputId": "85baadf8-9386-4fe7-b0c9-52baa798bb43"
   },
   "outputs": [
    {
     "name": "stdout",
     "output_type": "stream",
     "text": [
      "                            OLS Regression Results                            \n",
      "==============================================================================\n",
      "Dep. Variable:             SALE_PRICE   R-squared:                       0.559\n",
      "Model:                            OLS   Adj. R-squared:                  0.558\n",
      "Method:                 Least Squares   F-statistic:                     1450.\n",
      "Date:                Wed, 09 Oct 2019   Prob (F-statistic):               0.00\n",
      "Time:                        16:33:13   Log-Likelihood:                -46043.\n",
      "No. Observations:                3440   AIC:                         9.209e+04\n",
      "Df Residuals:                    3436   BIC:                         9.212e+04\n",
      "Df Model:                           3                                         \n",
      "Covariance Type:            nonrobust                                         \n",
      "=====================================================================================\n",
      "                        coef    std err          t      P>|t|      [0.025      0.975]\n",
      "-------------------------------------------------------------------------------------\n",
      "Intercept         -1.838e+06    1.9e+05     -9.693      0.000   -2.21e+06   -1.47e+06\n",
      "GROSS_SQUARE_FEET   147.1831      4.771     30.849      0.000     137.829     156.538\n",
      "LAND_SQUARE_FEET     29.8695      1.019     29.303      0.000      27.871      31.868\n",
      "YEAR_BUILT         1030.0274     96.733     10.648      0.000     840.367    1219.688\n",
      "==============================================================================\n",
      "Omnibus:                     1134.635   Durbin-Watson:                   1.475\n",
      "Prob(Omnibus):                  0.000   Jarque-Bera (JB):           105164.329\n",
      "Skew:                           0.597   Prob(JB):                         0.00\n",
      "Kurtosis:                      30.061   Cond. No.                     3.81e+05\n",
      "==============================================================================\n",
      "\n",
      "Warnings:\n",
      "[1] Standard Errors assume that the covariance matrix of the errors is correctly specified.\n",
      "[2] The condition number is large, 3.81e+05. This might indicate that there are\n",
      "strong multicollinearity or other numerical problems.\n"
     ]
    }
   ],
   "source": [
    "lm = smf.ols(formula='SALE_PRICE~GROSS_SQUARE_FEET+LAND_SQUARE_FEET+YEAR_BUILT', data = REStaten_sf).fit()\n",
    "print(lm.summary())"
   ]
  },
  {
   "cell_type": "code",
   "execution_count": null,
   "metadata": {
    "colab": {},
    "colab_type": "code",
    "id": "WjZPAiuQxK_8"
   },
   "outputs": [],
   "source": [
    "REStaten_sf['predicted_price']=lm.predict()"
   ]
  },
  {
   "cell_type": "code",
   "execution_count": null,
   "metadata": {
    "colab": {},
    "colab_type": "code",
    "id": "hjERvvUdxK_-",
    "outputId": "2a2f1cb9-08de-41ab-9397-132f928128fc"
   },
   "outputs": [
    {
     "data": {
      "image/png": "[encoded data removed]",
      "text/plain": [
       "<Figure size 432x288 with 1 Axes>"
      ]
     },
     "metadata": {
      "needs_background": "light",
      "tags": []
     },
     "output_type": "display_data"
    }
   ],
   "source": [
    "#another way - visualize actual values vs predicted (works also for multi-variate regressions)\n",
    "fig, ax = plt.subplots() #get axis to plot on\n",
    "ax.set_xscale('log'); ax.set_yscale('log') #set up log-scale for axis\n",
    "REStaten_sf.plot(ax=ax,kind='scatter',x='predicted_price',y='SALE_PRICE') #show the data\n",
    "ax.plot(REStaten_sf.predicted_price,REStaten_sf.predicted_price,'r-'); #show the regression line"
   ]
  },
  {
   "cell_type": "markdown",
   "metadata": {
    "colab_type": "text",
    "id": "LshxqPZzxLAA"
   },
   "source": [
    "Q4. Apply regression trained for single family houses from Q3 to predict prices for a different dataframe of duplexes (two residential units). Visualize the fit and compute the R2 over duplexes. We can compare it with the R2 of the regression trained for duplexes in task 2"
   ]
  },
  {
   "cell_type": "code",
   "execution_count": null,
   "metadata": {
    "colab": {},
    "colab_type": "code",
    "id": "_-VcIoCrxLAA"
   },
   "outputs": [],
   "source": [
    "REStaten_du=REStaten_.loc[(REStaten_.RESIDENTIAL_UNITS==2)&(REStaten_.COMMERCIAL_UNITS==0)].copy()"
   ]
  },
  {
   "cell_type": "code",
   "execution_count": null,
   "metadata": {
    "colab": {},
    "colab_type": "code",
    "id": "wPZTq7mtxLAL"
   },
   "outputs": [],
   "source": [
    "#predict values for duplexes using the same regression trained above for single family\n",
    "REStaten_du['predicted_price']=lm.predict(REStaten_du)"
   ]
  },
  {
   "cell_type": "code",
   "execution_count": null,
   "metadata": {
    "colab": {},
    "colab_type": "code",
    "id": "2vUz5_gcxLAO"
   },
   "outputs": [],
   "source": [
    "from sklearn.metrics import r2_score"
   ]
  },
  {
   "cell_type": "code",
   "execution_count": null,
   "metadata": {
    "colab": {},
    "colab_type": "code",
    "id": "Ys9tbT3WxLAR",
    "outputId": "129e2d4e-0c07-412b-ca0e-d1a7d64dc503"
   },
   "outputs": [
    {
     "data": {
      "text/plain": [
       "0.26936925224341035"
      ]
     },
     "execution_count": 88,
     "metadata": {
      "tags": []
     },
     "output_type": "execute_result"
    }
   ],
   "source": [
    "#compute the R-squared of the preduction\n",
    "r2_score(REStaten_du.SALE_PRICE,REStaten_du['predicted_price'])"
   ]
  },
  {
   "cell_type": "code",
   "execution_count": null,
   "metadata": {
    "colab": {},
    "colab_type": "code",
    "id": "9Dd7uihExLAV",
    "outputId": "6701b707-9152-437f-fc9f-ad8f5ae8fff7"
   },
   "outputs": [
    {
     "data": {
      "image/png": "[encoded data removed]",
      "text/plain": [
       "<Figure size 432x288 with 1 Axes>"
      ]
     },
     "metadata": {
      "needs_background": "light",
      "tags": []
     },
     "output_type": "display_data"
    }
   ],
   "source": [
    "#visualize actual values vs predicted (works also for multi-variate regressions)\n",
    "fig, ax = plt.subplots() #get axis to plot on\n",
    "ax.set_xscale('log'); ax.set_yscale('log') #set up log-scale for axis\n",
    "REStaten_du.plot(ax=ax,kind='scatter',x='predicted_price',y='SALE_PRICE') #show the data\n",
    "ax.plot(REStaten_du.predicted_price,REStaten_du.predicted_price,'r-'); #show the regression line"
   ]
  },
  {
   "cell_type": "code",
   "execution_count": null,
   "metadata": {
    "colab": {},
    "colab_type": "code",
    "id": "wTZRyXy2xLAX"
   },
   "outputs": [],
   "source": [
    "#compare vs R2 of the regression trained for duplexes"
   ]
  },
  {
   "cell_type": "code",
   "execution_count": null,
   "metadata": {
    "colab": {},
    "colab_type": "code",
    "id": "NQ0NaXNGxLAZ",
    "outputId": "4ff6e332-7c92-469f-f525-13bf6dc2fe83"
   },
   "outputs": [
    {
     "name": "stdout",
     "output_type": "stream",
     "text": [
      "                            OLS Regression Results                            \n",
      "==============================================================================\n",
      "Dep. Variable:             SALE_PRICE   R-squared:                       0.315\n",
      "Model:                            OLS   Adj. R-squared:                  0.313\n",
      "Method:                 Least Squares   F-statistic:                     198.4\n",
      "Date:                Wed, 09 Oct 2019   Prob (F-statistic):          7.18e-106\n",
      "Time:                        16:33:14   Log-Likelihood:                -17748.\n",
      "No. Observations:                1299   AIC:                         3.550e+04\n",
      "Df Residuals:                    1295   BIC:                         3.553e+04\n",
      "Df Model:                           3                                         \n",
      "Covariance Type:            nonrobust                                         \n",
      "=====================================================================================\n",
      "                        coef    std err          t      P>|t|      [0.025      0.975]\n",
      "-------------------------------------------------------------------------------------\n",
      "Intercept          -4.39e+06   3.43e+05    -12.790      0.000   -5.06e+06   -3.72e+06\n",
      "GROSS_SQUARE_FEET    91.4041     10.070      9.076      0.000      71.648     111.160\n",
      "LAND_SQUARE_FEET     31.9019      2.839     11.238      0.000      26.333      37.471\n",
      "YEAR_BUILT         2387.0060    175.422     13.607      0.000    2042.863    2731.149\n",
      "==============================================================================\n",
      "Omnibus:                      992.226   Durbin-Watson:                   1.419\n",
      "Prob(Omnibus):                  0.000   Jarque-Bera (JB):            83352.141\n",
      "Skew:                           2.862   Prob(JB):                         0.00\n",
      "Kurtosis:                      41.823   Cond. No.                     3.33e+05\n",
      "==============================================================================\n",
      "\n",
      "Warnings:\n",
      "[1] Standard Errors assume that the covariance matrix of the errors is correctly specified.\n",
      "[2] The condition number is large, 3.33e+05. This might indicate that there are\n",
      "strong multicollinearity or other numerical problems.\n"
     ]
    }
   ],
   "source": [
    "lm_du = smf.ols(formula='SALE_PRICE~GROSS_SQUARE_FEET+LAND_SQUARE_FEET+YEAR_BUILT', data = REStaten_du).fit()\n",
    "print(lm_du.summary())"
   ]
  },
  {
   "cell_type": "markdown",
   "metadata": {
    "colab_type": "text",
    "id": "sCZjDY9VxLAc"
   },
   "source": [
    "## Homework task 2\n",
    "\n",
    "Now consider houses with different numbers of residential units: repeat the SALE_PRICE~GROSS_SQUARE_FEET+LAND_SQUARE_FEET+YEAR_BUILT regression for houses with  RESIDENTIAL_UNITS==1,2 and \"3 or above\", COMMERCIAL_UNITS==0. Summarize the number of samples in each category, coefficients and r-squared values of the corresponding regressions in a dataframe with the following columns: samples,GROSS_SQUARE_FEET_coef,LAND_SQUARE_FEET_coef,YEAR_BUILT,coef,Intercept,R2. Make the number of RESIDENTIAL_UNITS (1,2 or '3+') an index"
   ]
  },
  {
   "cell_type": "code",
   "execution_count": null,
   "metadata": {
    "colab": {},
    "colab_type": "code",
    "id": "wiIahzw0xLAc",
    "outputId": "74f63d50-8a90-491e-d9a0-eaeb3b9bf395"
   },
   "outputs": [
    {
     "data": {
      "text/html": [
       "<div>\n",
       "<style scoped>\n",
       "    .dataframe tbody tr th:only-of-type {\n",
       "        vertical-align: middle;\n",
       "    }\n",
       "\n",
       "    .dataframe tbody tr th {\n",
       "        vertical-align: top;\n",
       "    }\n",
       "\n",
       "    .dataframe thead th {\n",
       "        text-align: right;\n",
       "    }\n",
       "</style>\n",
       "<table border=\"1\" class=\"dataframe\">\n",
       "  <thead>\n",
       "    <tr style=\"text-align: right;\">\n",
       "      <th></th>\n",
       "      <th>samples</th>\n",
       "      <th>GROSS_SQUARE_FEET_coef</th>\n",
       "      <th>LAND_SQUARE_FEET_coef</th>\n",
       "      <th>YEAR_BUILT_coef</th>\n",
       "      <th>Intercept</th>\n",
       "      <th>R2</th>\n",
       "    </tr>\n",
       "  </thead>\n",
       "  <tbody>\n",
       "    <tr>\n",
       "      <th>1</th>\n",
       "      <td>3440</td>\n",
       "      <td>147.183135</td>\n",
       "      <td>29.869471</td>\n",
       "      <td>1030.027421</td>\n",
       "      <td>-1.837565e+06</td>\n",
       "      <td>0.558615</td>\n",
       "    </tr>\n",
       "    <tr>\n",
       "      <th>2</th>\n",
       "      <td>1299</td>\n",
       "      <td>91.404097</td>\n",
       "      <td>31.901931</td>\n",
       "      <td>2387.006042</td>\n",
       "      <td>-4.389802e+06</td>\n",
       "      <td>0.314907</td>\n",
       "    </tr>\n",
       "    <tr>\n",
       "      <th>3+</th>\n",
       "      <td>69</td>\n",
       "      <td>83.847380</td>\n",
       "      <td>26.608053</td>\n",
       "      <td>3168.788503</td>\n",
       "      <td>-5.813505e+06</td>\n",
       "      <td>0.841011</td>\n",
       "    </tr>\n",
       "  </tbody>\n",
       "</table>\n",
       "</div>"
      ],
      "text/plain": [
       "    samples  GROSS_SQUARE_FEET_coef  LAND_SQUARE_FEET_coef  YEAR_BUILT_coef  \\\n",
       "1      3440              147.183135              29.869471      1030.027421   \n",
       "2      1299               91.404097              31.901931      2387.006042   \n",
       "3+       69               83.847380              26.608053      3168.788503   \n",
       "\n",
       "       Intercept        R2  \n",
       "1  -1.837565e+06  0.558615  \n",
       "2  -4.389802e+06  0.314907  \n",
       "3+ -5.813505e+06  0.841011  "
      ]
     },
     "execution_count": 58,
     "metadata": {
      "tags": []
     },
     "output_type": "execute_result"
    }
   ],
   "source": [
    "res=[];\n",
    "for r in range(1,4):\n",
    "    if r<3:\n",
    "        df=REStaten_.loc[(REStaten_.RESIDENTIAL_UNITS==r)&(REStaten_.COMMERCIAL_UNITS==0)]\n",
    "    else:\n",
    "        df=REStaten_.loc[(REStaten_.RESIDENTIAL_UNITS>=r)&(REStaten_.COMMERCIAL_UNITS==0)]\n",
    "    lm=smf.ols(formula='SALE_PRICE~GROSS_SQUARE_FEET+LAND_SQUARE_FEET+YEAR_BUILT', data = df).fit();\n",
    "    res+=[[df.shape[0],lm.params.GROSS_SQUARE_FEET,lm.params.LAND_SQUARE_FEET, lm.params.YEAR_BUILT,lm.params.Intercept, lm.rsquared]]\n",
    "pd.DataFrame(res,columns=['samples','GROSS_SQUARE_FEET_coef','LAND_SQUARE_FEET_coef','YEAR_BUILT_coef','Intercept','R2'],index=['1','2','3+'])"
   ]
  },
  {
   "cell_type": "markdown",
   "metadata": {
    "colab_type": "text",
    "id": "7bXQ3QeqxLAi"
   },
   "source": [
    "## Urban activity data\n",
    "\n",
    "Recall urban population and activity data case from a previous class notebook"
   ]
  },
  {
   "cell_type": "code",
   "execution_count": null,
   "metadata": {
    "colab": {},
    "colab_type": "code",
    "id": "p6jrTR6dxLAi"
   },
   "outputs": [],
   "source": [
    "#Upload the main dataset\n",
    "SMdata=pd.read_csv(\"data/Socio-mobility.csv\",index_col=0)"
   ]
  },
  {
   "cell_type": "code",
   "execution_count": null,
   "metadata": {
    "colab": {},
    "colab_type": "code",
    "id": "aP7072rdxLAl"
   },
   "outputs": [],
   "source": [
    "#rename some of the columns for the sake of consistency and also to replace '-'\n",
    "SMdata.rename(columns={'mobile-device_spatial':'mobile','citibike_spatial':'citibike','sr311_spatial':'sr311','subway_spatial':'subway','taxi_spatial':'taxi','twitter_spatial':'twitter'},inplace=True)"
   ]
  },
  {
   "cell_type": "code",
   "execution_count": null,
   "metadata": {
    "colab": {},
    "colab_type": "code",
    "id": "oKHTIw4FxLAr"
   },
   "outputs": [],
   "source": [
    "#also upload two other datasets from the last class - residential and working population\n",
    "LEHDW=pd.read_csv(\"data/LEHD-work.csv\",index_col=0)"
   ]
  },
  {
   "cell_type": "code",
   "execution_count": null,
   "metadata": {
    "colab": {},
    "colab_type": "code",
    "id": "GLlPI1a8xLAy"
   },
   "outputs": [],
   "source": [
    "#notice that residetial population here (from LEHD, based on the workforce residences) \n",
    "#is different from the one in the main dataset \n",
    "LEHDR=pd.read_csv(\"data/LEHD-resident.csv\",index_col=0)"
   ]
  },
  {
   "cell_type": "code",
   "execution_count": null,
   "metadata": {
    "colab": {},
    "colab_type": "code",
    "id": "aS_vGDE2xLA2"
   },
   "outputs": [],
   "source": [
    "#merge the dataframes (inner merge on index - taxi zone number); take only the columns to use later\n",
    "SMdata=SMdata[['population','mobile','citibike','sr311','subway','taxi','twitter']].merge(LEHDW[['total']].rename(columns={'total':'working'}), on=None, left_index=True, right_index=True, how='inner')"
   ]
  },
  {
   "cell_type": "code",
   "execution_count": null,
   "metadata": {
    "colab": {},
    "colab_type": "code",
    "id": "ZhpLfjY2xLA4"
   },
   "outputs": [],
   "source": [
    "SMdata=SMdata.merge(LEHDR[['total']].rename(columns={'total':'residential'}), on=None, left_index=True, right_index=True, how='inner')"
   ]
  },
  {
   "cell_type": "code",
   "execution_count": null,
   "metadata": {
    "colab": {},
    "colab_type": "code",
    "id": "wbJ8APsZxLA6",
    "outputId": "6eea5a61-1542-41c5-fc89-668813cc5755"
   },
   "outputs": [
    {
     "data": {
      "text/html": [
       "<div>\n",
       "<style scoped>\n",
       "    .dataframe tbody tr th:only-of-type {\n",
       "        vertical-align: middle;\n",
       "    }\n",
       "\n",
       "    .dataframe tbody tr th {\n",
       "        vertical-align: top;\n",
       "    }\n",
       "\n",
       "    .dataframe thead th {\n",
       "        text-align: right;\n",
       "    }\n",
       "</style>\n",
       "<table border=\"1\" class=\"dataframe\">\n",
       "  <thead>\n",
       "    <tr style=\"text-align: right;\">\n",
       "      <th></th>\n",
       "      <th>population</th>\n",
       "      <th>mobile</th>\n",
       "      <th>citibike</th>\n",
       "      <th>sr311</th>\n",
       "      <th>subway</th>\n",
       "      <th>taxi</th>\n",
       "      <th>twitter</th>\n",
       "      <th>working</th>\n",
       "      <th>residential</th>\n",
       "    </tr>\n",
       "    <tr>\n",
       "      <th>tz</th>\n",
       "      <th></th>\n",
       "      <th></th>\n",
       "      <th></th>\n",
       "      <th></th>\n",
       "      <th></th>\n",
       "      <th></th>\n",
       "      <th></th>\n",
       "      <th></th>\n",
       "      <th></th>\n",
       "    </tr>\n",
       "  </thead>\n",
       "  <tbody>\n",
       "    <tr>\n",
       "      <th>3</th>\n",
       "      <td>32450.0</td>\n",
       "      <td>109300</td>\n",
       "      <td>0</td>\n",
       "      <td>700</td>\n",
       "      <td>225527.5</td>\n",
       "      <td>31960</td>\n",
       "      <td>480</td>\n",
       "      <td>4989</td>\n",
       "      <td>11398</td>\n",
       "    </tr>\n",
       "    <tr>\n",
       "      <th>4</th>\n",
       "      <td>27571.0</td>\n",
       "      <td>179644</td>\n",
       "      <td>31545</td>\n",
       "      <td>399</td>\n",
       "      <td>0.0</td>\n",
       "      <td>178515</td>\n",
       "      <td>85</td>\n",
       "      <td>2717</td>\n",
       "      <td>12318</td>\n",
       "    </tr>\n",
       "    <tr>\n",
       "      <th>5</th>\n",
       "      <td>26482.0</td>\n",
       "      <td>56271</td>\n",
       "      <td>0</td>\n",
       "      <td>490</td>\n",
       "      <td>0.0</td>\n",
       "      <td>3667</td>\n",
       "      <td>40</td>\n",
       "      <td>1191</td>\n",
       "      <td>10751</td>\n",
       "    </tr>\n",
       "    <tr>\n",
       "      <th>6</th>\n",
       "      <td>15896.0</td>\n",
       "      <td>147674</td>\n",
       "      <td>0</td>\n",
       "      <td>255</td>\n",
       "      <td>0.0</td>\n",
       "      <td>7456</td>\n",
       "      <td>88</td>\n",
       "      <td>2495</td>\n",
       "      <td>6729</td>\n",
       "    </tr>\n",
       "    <tr>\n",
       "      <th>7</th>\n",
       "      <td>77252.0</td>\n",
       "      <td>508255</td>\n",
       "      <td>0</td>\n",
       "      <td>1389</td>\n",
       "      <td>3336898.0</td>\n",
       "      <td>362180</td>\n",
       "      <td>2294</td>\n",
       "      <td>17223</td>\n",
       "      <td>43048</td>\n",
       "    </tr>\n",
       "  </tbody>\n",
       "</table>\n",
       "</div>"
      ],
      "text/plain": [
       "    population  mobile  citibike  sr311     subway    taxi  twitter  working  \\\n",
       "tz                                                                             \n",
       "3      32450.0  109300         0    700   225527.5   31960      480     4989   \n",
       "4      27571.0  179644     31545    399        0.0  178515       85     2717   \n",
       "5      26482.0   56271         0    490        0.0    3667       40     1191   \n",
       "6      15896.0  147674         0    255        0.0    7456       88     2495   \n",
       "7      77252.0  508255         0   1389  3336898.0  362180     2294    17223   \n",
       "\n",
       "    residential  \n",
       "tz               \n",
       "3         11398  \n",
       "4         12318  \n",
       "5         10751  \n",
       "6          6729  \n",
       "7         43048  "
      ]
     },
     "execution_count": 65,
     "metadata": {
      "tags": []
     },
     "output_type": "execute_result"
    }
   ],
   "source": [
    "#glimpse into the final data\n",
    "SMdata.head()"
   ]
  },
  {
   "cell_type": "code",
   "execution_count": null,
   "metadata": {
    "colab": {},
    "colab_type": "code",
    "id": "jUp0pGNCxLA8",
    "outputId": "109e8fcd-6dba-4da8-f8f9-90da8d54805f"
   },
   "outputs": [
    {
     "data": {
      "text/html": [
       "<div>\n",
       "<style scoped>\n",
       "    .dataframe tbody tr th:only-of-type {\n",
       "        vertical-align: middle;\n",
       "    }\n",
       "\n",
       "    .dataframe tbody tr th {\n",
       "        vertical-align: top;\n",
       "    }\n",
       "\n",
       "    .dataframe thead th {\n",
       "        text-align: right;\n",
       "    }\n",
       "</style>\n",
       "<table border=\"1\" class=\"dataframe\">\n",
       "  <thead>\n",
       "    <tr style=\"text-align: right;\">\n",
       "      <th></th>\n",
       "      <th>population</th>\n",
       "      <th>mobile</th>\n",
       "      <th>citibike</th>\n",
       "      <th>sr311</th>\n",
       "      <th>subway</th>\n",
       "      <th>taxi</th>\n",
       "      <th>twitter</th>\n",
       "      <th>working</th>\n",
       "      <th>residential</th>\n",
       "    </tr>\n",
       "  </thead>\n",
       "  <tbody>\n",
       "    <tr>\n",
       "      <th>population</th>\n",
       "      <td>1.000000</td>\n",
       "      <td>0.670248</td>\n",
       "      <td>-0.210465</td>\n",
       "      <td>0.877397</td>\n",
       "      <td>-0.042691</td>\n",
       "      <td>-0.059860</td>\n",
       "      <td>-0.028276</td>\n",
       "      <td>-0.099852</td>\n",
       "      <td>0.969425</td>\n",
       "    </tr>\n",
       "    <tr>\n",
       "      <th>mobile</th>\n",
       "      <td>0.670248</td>\n",
       "      <td>1.000000</td>\n",
       "      <td>-0.066319</td>\n",
       "      <td>0.607098</td>\n",
       "      <td>0.219016</td>\n",
       "      <td>0.144768</td>\n",
       "      <td>0.214191</td>\n",
       "      <td>0.175743</td>\n",
       "      <td>0.646672</td>\n",
       "    </tr>\n",
       "    <tr>\n",
       "      <th>citibike</th>\n",
       "      <td>-0.210465</td>\n",
       "      <td>-0.066319</td>\n",
       "      <td>1.000000</td>\n",
       "      <td>-0.183276</td>\n",
       "      <td>0.486907</td>\n",
       "      <td>0.748109</td>\n",
       "      <td>0.372861</td>\n",
       "      <td>0.513090</td>\n",
       "      <td>-0.102762</td>\n",
       "    </tr>\n",
       "    <tr>\n",
       "      <th>sr311</th>\n",
       "      <td>0.877397</td>\n",
       "      <td>0.607098</td>\n",
       "      <td>-0.183276</td>\n",
       "      <td>1.000000</td>\n",
       "      <td>-0.010677</td>\n",
       "      <td>-0.026607</td>\n",
       "      <td>0.066799</td>\n",
       "      <td>-0.049597</td>\n",
       "      <td>0.865145</td>\n",
       "    </tr>\n",
       "    <tr>\n",
       "      <th>subway</th>\n",
       "      <td>-0.042691</td>\n",
       "      <td>0.219016</td>\n",
       "      <td>0.486907</td>\n",
       "      <td>-0.010677</td>\n",
       "      <td>1.000000</td>\n",
       "      <td>0.630203</td>\n",
       "      <td>0.496341</td>\n",
       "      <td>0.703456</td>\n",
       "      <td>0.020381</td>\n",
       "    </tr>\n",
       "    <tr>\n",
       "      <th>taxi</th>\n",
       "      <td>-0.059860</td>\n",
       "      <td>0.144768</td>\n",
       "      <td>0.748109</td>\n",
       "      <td>-0.026607</td>\n",
       "      <td>0.630203</td>\n",
       "      <td>1.000000</td>\n",
       "      <td>0.556061</td>\n",
       "      <td>0.720043</td>\n",
       "      <td>0.053496</td>\n",
       "    </tr>\n",
       "    <tr>\n",
       "      <th>twitter</th>\n",
       "      <td>-0.028276</td>\n",
       "      <td>0.214191</td>\n",
       "      <td>0.372861</td>\n",
       "      <td>0.066799</td>\n",
       "      <td>0.496341</td>\n",
       "      <td>0.556061</td>\n",
       "      <td>1.000000</td>\n",
       "      <td>0.626458</td>\n",
       "      <td>0.017787</td>\n",
       "    </tr>\n",
       "    <tr>\n",
       "      <th>working</th>\n",
       "      <td>-0.099852</td>\n",
       "      <td>0.175743</td>\n",
       "      <td>0.513090</td>\n",
       "      <td>-0.049597</td>\n",
       "      <td>0.703456</td>\n",
       "      <td>0.720043</td>\n",
       "      <td>0.626458</td>\n",
       "      <td>1.000000</td>\n",
       "      <td>-0.040786</td>\n",
       "    </tr>\n",
       "    <tr>\n",
       "      <th>residential</th>\n",
       "      <td>0.969425</td>\n",
       "      <td>0.646672</td>\n",
       "      <td>-0.102762</td>\n",
       "      <td>0.865145</td>\n",
       "      <td>0.020381</td>\n",
       "      <td>0.053496</td>\n",
       "      <td>0.017787</td>\n",
       "      <td>-0.040786</td>\n",
       "      <td>1.000000</td>\n",
       "    </tr>\n",
       "  </tbody>\n",
       "</table>\n",
       "</div>"
      ],
      "text/plain": [
       "             population    mobile  citibike     sr311    subway      taxi  \\\n",
       "population     1.000000  0.670248 -0.210465  0.877397 -0.042691 -0.059860   \n",
       "mobile         0.670248  1.000000 -0.066319  0.607098  0.219016  0.144768   \n",
       "citibike      -0.210465 -0.066319  1.000000 -0.183276  0.486907  0.748109   \n",
       "sr311          0.877397  0.607098 -0.183276  1.000000 -0.010677 -0.026607   \n",
       "subway        -0.042691  0.219016  0.486907 -0.010677  1.000000  0.630203   \n",
       "taxi          -0.059860  0.144768  0.748109 -0.026607  0.630203  1.000000   \n",
       "twitter       -0.028276  0.214191  0.372861  0.066799  0.496341  0.556061   \n",
       "working       -0.099852  0.175743  0.513090 -0.049597  0.703456  0.720043   \n",
       "residential    0.969425  0.646672 -0.102762  0.865145  0.020381  0.053496   \n",
       "\n",
       "              twitter   working  residential  \n",
       "population  -0.028276 -0.099852     0.969425  \n",
       "mobile       0.214191  0.175743     0.646672  \n",
       "citibike     0.372861  0.513090    -0.102762  \n",
       "sr311        0.066799 -0.049597     0.865145  \n",
       "subway       0.496341  0.703456     0.020381  \n",
       "taxi         0.556061  0.720043     0.053496  \n",
       "twitter      1.000000  0.626458     0.017787  \n",
       "working      0.626458  1.000000    -0.040786  \n",
       "residential  0.017787 -0.040786     1.000000  "
      ]
     },
     "execution_count": 66,
     "metadata": {
      "tags": []
     },
     "output_type": "execute_result"
    }
   ],
   "source": [
    "#get pair-wise column correlations\n",
    "SMdata.corr()"
   ]
  },
  {
   "cell_type": "markdown",
   "metadata": {
    "colab_type": "text",
    "id": "hCWpjhDXxLA-"
   },
   "source": [
    "But notice that some activities are not defined for the entire city. Would be more appropriate to correlate only where activity is defined"
   ]
  },
  {
   "cell_type": "code",
   "execution_count": null,
   "metadata": {
    "colab": {},
    "colab_type": "code",
    "id": "nvd2aPGkxLA_"
   },
   "outputs": [],
   "source": [
    "#auxiliary function to compute correlations between columns where both have data\n",
    "def NZPopCorr(col1,col2):\n",
    "    ind=(SMdata[col1]>0)&(SMdata[col2]>0)\n",
    "    return np.corrcoef(SMdata[col1][ind],SMdata[col2][ind])[0][1]"
   ]
  },
  {
   "cell_type": "code",
   "execution_count": null,
   "metadata": {
    "colab": {},
    "colab_type": "code",
    "id": "ZS4_UJDIxLBB",
    "outputId": "d68f6a1a-2378-4b03-f35a-69bda0b724de"
   },
   "outputs": [
    {
     "data": {
      "text/html": [
       "<div>\n",
       "<style scoped>\n",
       "    .dataframe tbody tr th:only-of-type {\n",
       "        vertical-align: middle;\n",
       "    }\n",
       "\n",
       "    .dataframe tbody tr th {\n",
       "        vertical-align: top;\n",
       "    }\n",
       "\n",
       "    .dataframe thead th {\n",
       "        text-align: right;\n",
       "    }\n",
       "</style>\n",
       "<table border=\"1\" class=\"dataframe\">\n",
       "  <thead>\n",
       "    <tr style=\"text-align: right;\">\n",
       "      <th></th>\n",
       "      <th>population</th>\n",
       "      <th>residential</th>\n",
       "      <th>working</th>\n",
       "    </tr>\n",
       "  </thead>\n",
       "  <tbody>\n",
       "    <tr>\n",
       "      <th>taxi</th>\n",
       "      <td>-0.064720</td>\n",
       "      <td>0.049633</td>\n",
       "      <td>0.719559</td>\n",
       "    </tr>\n",
       "    <tr>\n",
       "      <th>subway</th>\n",
       "      <td>-0.232504</td>\n",
       "      <td>-0.141712</td>\n",
       "      <td>0.720643</td>\n",
       "    </tr>\n",
       "    <tr>\n",
       "      <th>citibike</th>\n",
       "      <td>-0.126996</td>\n",
       "      <td>0.011210</td>\n",
       "      <td>0.319030</td>\n",
       "    </tr>\n",
       "    <tr>\n",
       "      <th>twitter</th>\n",
       "      <td>-0.032551</td>\n",
       "      <td>0.017787</td>\n",
       "      <td>0.626458</td>\n",
       "    </tr>\n",
       "    <tr>\n",
       "      <th>mobile</th>\n",
       "      <td>0.676604</td>\n",
       "      <td>0.646672</td>\n",
       "      <td>0.175743</td>\n",
       "    </tr>\n",
       "    <tr>\n",
       "      <th>sr311</th>\n",
       "      <td>0.869460</td>\n",
       "      <td>0.863358</td>\n",
       "      <td>-0.056116</td>\n",
       "    </tr>\n",
       "  </tbody>\n",
       "</table>\n",
       "</div>"
      ],
      "text/plain": [
       "          population  residential   working\n",
       "taxi       -0.064720     0.049633  0.719559\n",
       "subway     -0.232504    -0.141712  0.720643\n",
       "citibike   -0.126996     0.011210  0.319030\n",
       "twitter    -0.032551     0.017787  0.626458\n",
       "mobile      0.676604     0.646672  0.175743\n",
       "sr311       0.869460     0.863358 -0.056116"
      ]
     },
     "execution_count": 68,
     "metadata": {
      "tags": []
     },
     "output_type": "execute_result"
    }
   ],
   "source": [
    "#output a table with correlations between activities and population counts\n",
    "PL=['population','residential','working']\n",
    "ML=['taxi','subway','citibike','twitter','mobile','sr311']\n",
    "pd.DataFrame([[NZPopCorr(M,P) for P in PL] for M in ML],columns=PL,index=ML) "
   ]
  },
  {
   "cell_type": "markdown",
   "metadata": {
    "colab_type": "text",
    "id": "R_VfWXBlxLBE"
   },
   "source": [
    "Now we can implement a regression for urban activities a) vs population and b) vs LEHD residential and working population taken as separate regressors"
   ]
  },
  {
   "cell_type": "markdown",
   "metadata": {
    "colab_type": "text",
    "id": "hKKli-SLxLBE"
   },
   "source": [
    "## In-class task 2. \n",
    "Implement these regressions a) and b) for taxi and subway. No intercept"
   ]
  },
  {
   "cell_type": "code",
   "execution_count": null,
   "metadata": {
    "colab": {},
    "colab_type": "code",
    "id": "L3K3Hl1wxLBF",
    "outputId": "c96ad46a-a4d1-4b1c-8e2b-530ebcf7a17a"
   },
   "outputs": [
    {
     "name": "stdout",
     "output_type": "stream",
     "text": [
      "                            OLS Regression Results                            \n",
      "==============================================================================\n",
      "Dep. Variable:                   taxi   R-squared:                       0.042\n",
      "Model:                            OLS   Adj. R-squared:                  0.036\n",
      "Method:                 Least Squares   F-statistic:                     6.724\n",
      "Date:                Wed, 09 Oct 2019   Prob (F-statistic):             0.0104\n",
      "Time:                        16:33:15   Log-Likelihood:                -2156.6\n",
      "No. Observations:                 156   AIC:                             4317.\n",
      "Df Residuals:                     154   BIC:                             4323.\n",
      "Df Model:                           1                                         \n",
      "Covariance Type:            nonrobust                                         \n",
      "==============================================================================\n",
      "                 coef    std err          t      P>|t|      [0.025      0.975]\n",
      "------------------------------------------------------------------------------\n",
      "Intercept    3.02e+05   3.63e+04      8.317      0.000     2.3e+05    3.74e+05\n",
      "population    -2.0178      0.778     -2.593      0.010      -3.555      -0.481\n",
      "==============================================================================\n",
      "Omnibus:                       34.793   Durbin-Watson:                   1.658\n",
      "Prob(Omnibus):                  0.000   Jarque-Bera (JB):               49.519\n",
      "Skew:                           1.291   Prob(JB):                     1.77e-11\n",
      "Kurtosis:                       3.975   Cond. No.                     8.62e+04\n",
      "==============================================================================\n",
      "\n",
      "Warnings:\n",
      "[1] Standard Errors assume that the covariance matrix of the errors is correctly specified.\n",
      "[2] The condition number is large, 8.62e+04. This might indicate that there are\n",
      "strong multicollinearity or other numerical problems.\n"
     ]
    }
   ],
   "source": [
    "lm = smf.ols(formula='taxi~population', data = SMdata.loc[SMdata.subway>0]).fit()\n",
    "print(lm.summary())"
   ]
  },
  {
   "cell_type": "code",
   "execution_count": null,
   "metadata": {
    "colab": {},
    "colab_type": "code",
    "id": "eImEcgQ-xLBH",
    "outputId": "4cf09a8e-f6d9-4103-a7b5-13057544e7b7"
   },
   "outputs": [
    {
     "name": "stdout",
     "output_type": "stream",
     "text": [
      "                            OLS Regression Results                            \n",
      "==============================================================================\n",
      "Dep. Variable:                   taxi   R-squared:                       0.516\n",
      "Model:                            OLS   Adj. R-squared:                  0.510\n",
      "Method:                 Least Squares   F-statistic:                     81.55\n",
      "Date:                Wed, 09 Oct 2019   Prob (F-statistic):           7.82e-25\n",
      "Time:                        16:33:15   Log-Likelihood:                -2103.3\n",
      "No. Observations:                 156   AIC:                             4213.\n",
      "Df Residuals:                     153   BIC:                             4222.\n",
      "Df Model:                           2                                         \n",
      "Covariance Type:            nonrobust                                         \n",
      "===============================================================================\n",
      "                  coef    std err          t      P>|t|      [0.025      0.975]\n",
      "-------------------------------------------------------------------------------\n",
      "Intercept    7.242e+04   3.02e+04      2.398      0.018    1.28e+04    1.32e+05\n",
      "working         6.0243      0.474     12.699      0.000       5.087       6.962\n",
      "residential     1.2800      1.392      0.919      0.359      -1.471       4.031\n",
      "==============================================================================\n",
      "Omnibus:                       42.441   Durbin-Watson:                   1.748\n",
      "Prob(Omnibus):                  0.000   Jarque-Bera (JB):               76.052\n",
      "Skew:                           1.299   Prob(JB):                     3.06e-17\n",
      "Kurtosis:                       5.225   Cond. No.                     8.19e+04\n",
      "==============================================================================\n",
      "\n",
      "Warnings:\n",
      "[1] Standard Errors assume that the covariance matrix of the errors is correctly specified.\n",
      "[2] The condition number is large, 8.19e+04. This might indicate that there are\n",
      "strong multicollinearity or other numerical problems.\n"
     ]
    }
   ],
   "source": [
    "lm = smf.ols(formula='taxi~working+residential', data = SMdata.loc[SMdata.subway>0]).fit()\n",
    "print(lm.summary())"
   ]
  },
  {
   "cell_type": "code",
   "execution_count": null,
   "metadata": {
    "colab": {},
    "colab_type": "code",
    "id": "wnbSB4A9xLBL",
    "outputId": "0d4907c5-933c-4474-8e65-39890fae1313"
   },
   "outputs": [
    {
     "name": "stdout",
     "output_type": "stream",
     "text": [
      "                            OLS Regression Results                            \n",
      "==============================================================================\n",
      "Dep. Variable:                 subway   R-squared:                       0.520\n",
      "Model:                            OLS   Adj. R-squared:                  0.513\n",
      "Method:                 Least Squares   F-statistic:                     82.72\n",
      "Date:                Wed, 09 Oct 2019   Prob (F-statistic):           4.44e-25\n",
      "Time:                        16:33:15   Log-Likelihood:                -2563.1\n",
      "No. Observations:                 156   AIC:                             5132.\n",
      "Df Residuals:                     153   BIC:                             5141.\n",
      "Df Model:                           2                                         \n",
      "Covariance Type:            nonrobust                                         \n",
      "===============================================================================\n",
      "                  coef    std err          t      P>|t|      [0.025      0.975]\n",
      "-------------------------------------------------------------------------------\n",
      "Intercept    7.835e+05   5.76e+05      1.361      0.175   -3.54e+05    1.92e+06\n",
      "working       114.0069      9.040     12.611      0.000      96.147     131.867\n",
      "residential    -6.7048     26.535     -0.253      0.801     -59.127      45.717\n",
      "==============================================================================\n",
      "Omnibus:                       96.994   Durbin-Watson:                   2.330\n",
      "Prob(Omnibus):                  0.000   Jarque-Bera (JB):             1745.057\n",
      "Skew:                           1.785   Prob(JB):                         0.00\n",
      "Kurtosis:                      18.991   Cond. No.                     8.19e+04\n",
      "==============================================================================\n",
      "\n",
      "Warnings:\n",
      "[1] Standard Errors assume that the covariance matrix of the errors is correctly specified.\n",
      "[2] The condition number is large, 8.19e+04. This might indicate that there are\n",
      "strong multicollinearity or other numerical problems.\n"
     ]
    }
   ],
   "source": [
    "lm = smf.ols(formula='subway~working+residential', data = SMdata.loc[SMdata.subway>0]).fit()\n",
    "print(lm.summary())"
   ]
  },
  {
   "cell_type": "markdown",
   "metadata": {
    "colab_type": "text",
    "id": "2o3-bn-rxLBN"
   },
   "source": [
    "### Homework task 3: \n",
    "Q1. Implement all regressions of each activity vs residential and working population, no intercept in a cycle.\n",
    "Create two bar plots of a) R2's b) coefficients "
   ]
  },
  {
   "cell_type": "code",
   "execution_count": null,
   "metadata": {
    "colab": {},
    "colab_type": "code",
    "id": "qHZP2WrAxLBN"
   },
   "outputs": [],
   "source": [
    "ML=['taxi','subway','citibike','twitter','mobile','sr311']\n",
    "R2=[]\n",
    "RP=[]; WP=[]\n",
    "for m in ML:\n",
    "    lm = smf.ols(formula=m+'~working+residential', data = SMdata.loc[SMdata[m]>0]).fit()\n",
    "    R2+=[lm.rsquared] \n",
    "    RP+=[lm.params.residential]\n",
    "    WP+=[lm.params.working]"
   ]
  },
  {
   "cell_type": "code",
   "execution_count": null,
   "metadata": {
    "colab": {},
    "colab_type": "code",
    "id": "N07vLLcPxLBO",
    "outputId": "135484aa-9f80-44cf-d97e-bdc40e2cf17b"
   },
   "outputs": [
    {
     "data": {
      "text/plain": [
       "Text(0.5,1,'R2 by activity')"
      ]
     },
     "execution_count": 73,
     "metadata": {
      "tags": []
     },
     "output_type": "execute_result"
    },
    {
     "data": {
      "image/png": "[encoded data removed]",
      "text/plain": [
       "<Figure size 432x288 with 1 Axes>"
      ]
     },
     "metadata": {
      "needs_background": "light",
      "tags": []
     },
     "output_type": "display_data"
    }
   ],
   "source": [
    "plt.bar(ML,R2)\n",
    "plt.title('R2 by activity')"
   ]
  },
  {
   "cell_type": "code",
   "execution_count": null,
   "metadata": {
    "colab": {},
    "colab_type": "code",
    "id": "B6v2_XOyxLBR",
    "outputId": "25efd7b9-d12e-4a62-83e1-f0b20fde1c14"
   },
   "outputs": [
    {
     "data": {
      "image/png": "[encoded data removed]",
      "text/plain": [
       "<Figure size 432x288 with 1 Axes>"
      ]
     },
     "metadata": {
      "needs_background": "light",
      "tags": []
     },
     "output_type": "display_data"
    }
   ],
   "source": [
    "fig = plt.figure()\n",
    "ax = fig.add_subplot(111)\n",
    "ind=np.arange(6)\n",
    "width=0.4\n",
    "rects1 = ax.bar(ind, RP, width, color='r')\n",
    "rects2 = ax.bar(ind+width, WP, width, color='g')\n",
    "ax.set_xticklabels( ML )\n",
    "ax.legend(('residential','working'))\n",
    "plt.title('Regression coefficients by activity');"
   ]
  },
  {
   "cell_type": "markdown",
   "metadata": {
    "colab_type": "text",
    "id": "mXw2AmXuxLBU"
   },
   "source": [
    "Q2. Create a heatmap of the **log-ratios** between actual taxi ridership vs regression prediction to see where ridership is over/underestimated. Use taxi zones shapefile included in the data"
   ]
  },
  {
   "cell_type": "code",
   "execution_count": null,
   "metadata": {
    "colab": {},
    "colab_type": "code",
    "id": "RF09utiHxLBV",
    "outputId": "e4a41fb5-3a3b-47e5-e0a9-b5a1fd05eddc"
   },
   "outputs": [
    {
     "data": {
      "text/html": [
       "<table class=\"simpletable\">\n",
       "<caption>OLS Regression Results</caption>\n",
       "<tr>\n",
       "  <th>Dep. Variable:</th>          <td>taxi</td>       <th>  R-squared:         </th> <td>   0.524</td>\n",
       "</tr>\n",
       "<tr>\n",
       "  <th>Model:</th>                   <td>OLS</td>       <th>  Adj. R-squared:    </th> <td>   0.521</td>\n",
       "</tr>\n",
       "<tr>\n",
       "  <th>Method:</th>             <td>Least Squares</td>  <th>  F-statistic:       </th> <td>   139.5</td>\n",
       "</tr>\n",
       "<tr>\n",
       "  <th>Date:</th>             <td>Wed, 09 Oct 2019</td> <th>  Prob (F-statistic):</th> <td>1.47e-41</td>\n",
       "</tr>\n",
       "<tr>\n",
       "  <th>Time:</th>                 <td>16:33:15</td>     <th>  Log-Likelihood:    </th> <td> -3424.8</td>\n",
       "</tr>\n",
       "<tr>\n",
       "  <th>No. Observations:</th>      <td>   256</td>      <th>  AIC:               </th> <td>   6856.</td>\n",
       "</tr>\n",
       "<tr>\n",
       "  <th>Df Residuals:</th>          <td>   253</td>      <th>  BIC:               </th> <td>   6866.</td>\n",
       "</tr>\n",
       "<tr>\n",
       "  <th>Df Model:</th>              <td>     2</td>      <th>                     </th>     <td> </td>   \n",
       "</tr>\n",
       "<tr>\n",
       "  <th>Covariance Type:</th>      <td>nonrobust</td>    <th>                     </th>     <td> </td>   \n",
       "</tr>\n",
       "</table>\n",
       "<table class=\"simpletable\">\n",
       "<tr>\n",
       "       <td></td>          <th>coef</th>     <th>std err</th>      <th>t</th>      <th>P>|t|</th>  <th>[0.025</th>    <th>0.975]</th>  \n",
       "</tr>\n",
       "<tr>\n",
       "  <th>Intercept</th>   <td>  3.73e+04</td> <td> 1.87e+04</td> <td>    2.000</td> <td> 0.047</td> <td>  562.919</td> <td>  7.4e+04</td>\n",
       "</tr>\n",
       "<tr>\n",
       "  <th>working</th>     <td>    6.3630</td> <td>    0.382</td> <td>   16.664</td> <td> 0.000</td> <td>    5.611</td> <td>    7.115</td>\n",
       "</tr>\n",
       "<tr>\n",
       "  <th>residential</th> <td>    1.9369</td> <td>    1.028</td> <td>    1.885</td> <td> 0.061</td> <td>   -0.087</td> <td>    3.961</td>\n",
       "</tr>\n",
       "</table>\n",
       "<table class=\"simpletable\">\n",
       "<tr>\n",
       "  <th>Omnibus:</th>       <td>102.965</td> <th>  Durbin-Watson:     </th> <td>   1.648</td>\n",
       "</tr>\n",
       "<tr>\n",
       "  <th>Prob(Omnibus):</th> <td> 0.000</td>  <th>  Jarque-Bera (JB):  </th> <td> 348.660</td>\n",
       "</tr>\n",
       "<tr>\n",
       "  <th>Skew:</th>          <td> 1.734</td>  <th>  Prob(JB):          </th> <td>1.95e-76</td>\n",
       "</tr>\n",
       "<tr>\n",
       "  <th>Kurtosis:</th>      <td> 7.546</td>  <th>  Cond. No.          </th> <td>5.98e+04</td>\n",
       "</tr>\n",
       "</table><br/><br/>Warnings:<br/>[1] Standard Errors assume that the covariance matrix of the errors is correctly specified.<br/>[2] The condition number is large, 5.98e+04. This might indicate that there are<br/>strong multicollinearity or other numerical problems."
      ],
      "text/plain": [
       "<class 'statsmodels.iolib.summary.Summary'>\n",
       "\"\"\"\n",
       "                            OLS Regression Results                            \n",
       "==============================================================================\n",
       "Dep. Variable:                   taxi   R-squared:                       0.524\n",
       "Model:                            OLS   Adj. R-squared:                  0.521\n",
       "Method:                 Least Squares   F-statistic:                     139.5\n",
       "Date:                Wed, 09 Oct 2019   Prob (F-statistic):           1.47e-41\n",
       "Time:                        16:33:15   Log-Likelihood:                -3424.8\n",
       "No. Observations:                 256   AIC:                             6856.\n",
       "Df Residuals:                     253   BIC:                             6866.\n",
       "Df Model:                           2                                         \n",
       "Covariance Type:            nonrobust                                         \n",
       "===============================================================================\n",
       "                  coef    std err          t      P>|t|      [0.025      0.975]\n",
       "-------------------------------------------------------------------------------\n",
       "Intercept     3.73e+04   1.87e+04      2.000      0.047     562.919     7.4e+04\n",
       "working         6.3630      0.382     16.664      0.000       5.611       7.115\n",
       "residential     1.9369      1.028      1.885      0.061      -0.087       3.961\n",
       "==============================================================================\n",
       "Omnibus:                      102.965   Durbin-Watson:                   1.648\n",
       "Prob(Omnibus):                  0.000   Jarque-Bera (JB):              348.660\n",
       "Skew:                           1.734   Prob(JB):                     1.95e-76\n",
       "Kurtosis:                       7.546   Cond. No.                     5.98e+04\n",
       "==============================================================================\n",
       "\n",
       "Warnings:\n",
       "[1] Standard Errors assume that the covariance matrix of the errors is correctly specified.\n",
       "[2] The condition number is large, 5.98e+04. This might indicate that there are\n",
       "strong multicollinearity or other numerical problems.\n",
       "\"\"\""
      ]
     },
     "execution_count": 75,
     "metadata": {
      "tags": []
     },
     "output_type": "execute_result"
    }
   ],
   "source": [
    "lm = smf.ols(formula='taxi~working+residential', data = SMdata.loc[SMdata.taxi>0]).fit()\n",
    "lm.summary()"
   ]
  },
  {
   "cell_type": "code",
   "execution_count": null,
   "metadata": {
    "colab": {},
    "colab_type": "code",
    "id": "-XcTHZRHxLBW"
   },
   "outputs": [],
   "source": [
    "SMdata['taxi_predict']=lm.predict(SMdata)"
   ]
  },
  {
   "cell_type": "code",
   "execution_count": null,
   "metadata": {
    "colab": {},
    "colab_type": "code",
    "id": "vY3q2JELxLBZ",
    "outputId": "c3400cfe-cec9-4a09-b6be-3d846231d8d0"
   },
   "outputs": [
    {
     "name": "stderr",
     "output_type": "stream",
     "text": [
      "/anaconda2/lib/python2.7/site-packages/ipykernel_launcher.py:1: RuntimeWarning: divide by zero encountered in log\n",
      "  \"\"\"Entry point for launching an IPython kernel.\n"
     ]
    }
   ],
   "source": [
    "SMdata['taxi_predict']=np.log(SMdata['taxi_predict'])-np.log(SMdata.taxi)"
   ]
  },
  {
   "cell_type": "code",
   "execution_count": null,
   "metadata": {
    "colab": {},
    "colab_type": "code",
    "id": "4ZcMnksHxLBb"
   },
   "outputs": [],
   "source": [
    "import geopandas as gpd"
   ]
  },
  {
   "cell_type": "code",
   "execution_count": null,
   "metadata": {
    "colab": {},
    "colab_type": "code",
    "id": "6jqGlqxcxLBf"
   },
   "outputs": [],
   "source": [
    "#read shapefiles of NYC taxi zones\n",
    "tzs=gpd.read_file('data/taxi_zones/taxi_zones.shp')"
   ]
  },
  {
   "cell_type": "code",
   "execution_count": null,
   "metadata": {
    "colab": {},
    "colab_type": "code",
    "id": "LrXig23exLBj"
   },
   "outputs": [],
   "source": [
    "tzs=tzs.merge(SMdata,left_on='LocationID', right_index=True, how='inner').dropna()"
   ]
  },
  {
   "cell_type": "code",
   "execution_count": null,
   "metadata": {
    "colab": {},
    "colab_type": "code",
    "id": "yfrHXaQwxLBl",
    "outputId": "78a85a6b-5c18-4d2f-c14a-2dbcf200a527"
   },
   "outputs": [
    {
     "name": "stderr",
     "output_type": "stream",
     "text": [
      "/anaconda2/lib/python2.7/site-packages/geopandas/plotting.py:389: FutureWarning: 'axes' is deprecated, please use 'ax' instead (for consistency with pandas)\n",
      "  \"(for consistency with pandas)\", FutureWarning)\n"
     ]
    },
    {
     "data": {
      "text/plain": [
       "<matplotlib.axes._subplots.AxesSubplot at 0x1a1cdc92d0>"
      ]
     },
     "execution_count": 86,
     "metadata": {
      "tags": []
     },
     "output_type": "execute_result"
    },
    {
     "data": {
      "image/png": "[encoded data removed]",
      "text/plain": [
       "<Figure size 864x864 with 2 Axes>"
      ]
     },
     "metadata": {
      "needs_background": "light",
      "tags": []
     },
     "output_type": "display_data"
    }
   ],
   "source": [
    "f, ax = plt.subplots(1, figsize=(12, 12))\n",
    "ax.set_title(\"Taxi ridership overestimation\", fontsize=18)\n",
    "tzs.plot(axes=ax, column='taxi_predict', legend = True)"
   ]
  }
 ],
 "metadata": {
  "anaconda-cloud": {},
  "colab": {
   "name": "ADS2019_Session_03_solution.ipynb",
   "provenance": []
  },
  "kernelspec": {
   "display_name": "Python 2",
   "language": "python",
   "name": "python2"
  },
  "language_info": {
   "codemirror_mode": {
    "name": "ipython",
    "version": 2
   },
   "file_extension": ".py",
   "mimetype": "text/x-python",
   "name": "python",
   "nbconvert_exporter": "python",
   "pygments_lexer": "ipython2",
   "version": "2.7.16"
  }
 },
 "nbformat": 4,
 "nbformat_minor": 2
}
